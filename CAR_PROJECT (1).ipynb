{
 "cells": [
  {
   "cell_type": "code",
   "execution_count": 1,
   "id": "df13abc6-b9af-47f2-a1f9-0b3c6e2e1f36",
   "metadata": {},
   "outputs": [
    {
     "data": {
      "text/html": [
       "<div>\n",
       "<style scoped>\n",
       "    .dataframe tbody tr th:only-of-type {\n",
       "        vertical-align: middle;\n",
       "    }\n",
       "\n",
       "    .dataframe tbody tr th {\n",
       "        vertical-align: top;\n",
       "    }\n",
       "\n",
       "    .dataframe thead th {\n",
       "        text-align: right;\n",
       "    }\n",
       "</style>\n",
       "<table border=\"1\" class=\"dataframe\">\n",
       "  <thead>\n",
       "    <tr style=\"text-align: right;\">\n",
       "      <th></th>\n",
       "      <th>Unnamed: 0</th>\n",
       "      <th>name</th>\n",
       "      <th>year</th>\n",
       "      <th>selling_price</th>\n",
       "      <th>km_driven</th>\n",
       "      <th>fuel</th>\n",
       "      <th>seller_type</th>\n",
       "      <th>transmission</th>\n",
       "      <th>owner</th>\n",
       "      <th>mileage</th>\n",
       "      <th>engine</th>\n",
       "      <th>max_power</th>\n",
       "      <th>torque</th>\n",
       "      <th>seats</th>\n",
       "    </tr>\n",
       "  </thead>\n",
       "  <tbody>\n",
       "    <tr>\n",
       "      <th>0</th>\n",
       "      <td>0</td>\n",
       "      <td>Maruti Swift Dzire VDI</td>\n",
       "      <td>2014</td>\n",
       "      <td>450000</td>\n",
       "      <td>145500</td>\n",
       "      <td>Diesel</td>\n",
       "      <td>Individual</td>\n",
       "      <td>Manual</td>\n",
       "      <td>First Owner</td>\n",
       "      <td>23.4 kmpl</td>\n",
       "      <td>1248 CC</td>\n",
       "      <td>74 bhp</td>\n",
       "      <td>190Nm@ 2000rpm</td>\n",
       "      <td>5.0</td>\n",
       "    </tr>\n",
       "    <tr>\n",
       "      <th>1</th>\n",
       "      <td>1</td>\n",
       "      <td>Skoda Rapid 1.5 TDI Ambition</td>\n",
       "      <td>2014</td>\n",
       "      <td>370000</td>\n",
       "      <td>120000</td>\n",
       "      <td>Diesel</td>\n",
       "      <td>Individual</td>\n",
       "      <td>Manual</td>\n",
       "      <td>Second Owner</td>\n",
       "      <td>21.14 kmpl</td>\n",
       "      <td>1498 CC</td>\n",
       "      <td>103.52 bhp</td>\n",
       "      <td>250Nm@ 1500-2500rpm</td>\n",
       "      <td>5.0</td>\n",
       "    </tr>\n",
       "    <tr>\n",
       "      <th>2</th>\n",
       "      <td>2</td>\n",
       "      <td>Honda City 2017-2020 EXi</td>\n",
       "      <td>2006</td>\n",
       "      <td>158000</td>\n",
       "      <td>140000</td>\n",
       "      <td>Petrol</td>\n",
       "      <td>Individual</td>\n",
       "      <td>Manual</td>\n",
       "      <td>Third Owner</td>\n",
       "      <td>17.7 kmpl</td>\n",
       "      <td>1497 CC</td>\n",
       "      <td>78 bhp</td>\n",
       "      <td>12.7@ 2,700(kgm@ rpm)</td>\n",
       "      <td>5.0</td>\n",
       "    </tr>\n",
       "    <tr>\n",
       "      <th>3</th>\n",
       "      <td>3</td>\n",
       "      <td>Hyundai i20 Sportz Diesel</td>\n",
       "      <td>2010</td>\n",
       "      <td>225000</td>\n",
       "      <td>127000</td>\n",
       "      <td>Diesel</td>\n",
       "      <td>Individual</td>\n",
       "      <td>Manual</td>\n",
       "      <td>First Owner</td>\n",
       "      <td>23.0 kmpl</td>\n",
       "      <td>1396 CC</td>\n",
       "      <td>90 bhp</td>\n",
       "      <td>22.4 kgm at 1750-2750rpm</td>\n",
       "      <td>5.0</td>\n",
       "    </tr>\n",
       "    <tr>\n",
       "      <th>4</th>\n",
       "      <td>4</td>\n",
       "      <td>Maruti Swift VXI BSIII</td>\n",
       "      <td>2007</td>\n",
       "      <td>130000</td>\n",
       "      <td>120000</td>\n",
       "      <td>Petrol</td>\n",
       "      <td>Individual</td>\n",
       "      <td>Manual</td>\n",
       "      <td>First Owner</td>\n",
       "      <td>16.1 kmpl</td>\n",
       "      <td>1298 CC</td>\n",
       "      <td>88.2 bhp</td>\n",
       "      <td>11.5@ 4,500(kgm@ rpm)</td>\n",
       "      <td>5.0</td>\n",
       "    </tr>\n",
       "    <tr>\n",
       "      <th>...</th>\n",
       "      <td>...</td>\n",
       "      <td>...</td>\n",
       "      <td>...</td>\n",
       "      <td>...</td>\n",
       "      <td>...</td>\n",
       "      <td>...</td>\n",
       "      <td>...</td>\n",
       "      <td>...</td>\n",
       "      <td>...</td>\n",
       "      <td>...</td>\n",
       "      <td>...</td>\n",
       "      <td>...</td>\n",
       "      <td>...</td>\n",
       "      <td>...</td>\n",
       "    </tr>\n",
       "    <tr>\n",
       "      <th>8122</th>\n",
       "      <td>8122</td>\n",
       "      <td>Hyundai i20 Magna</td>\n",
       "      <td>2013</td>\n",
       "      <td>320000</td>\n",
       "      <td>110000</td>\n",
       "      <td>Petrol</td>\n",
       "      <td>Individual</td>\n",
       "      <td>Manual</td>\n",
       "      <td>First Owner</td>\n",
       "      <td>18.5 kmpl</td>\n",
       "      <td>1197 CC</td>\n",
       "      <td>82.85 bhp</td>\n",
       "      <td>113.7Nm@ 4000rpm</td>\n",
       "      <td>5.0</td>\n",
       "    </tr>\n",
       "    <tr>\n",
       "      <th>8123</th>\n",
       "      <td>8123</td>\n",
       "      <td>Hyundai Verna CRDi SX</td>\n",
       "      <td>2007</td>\n",
       "      <td>135000</td>\n",
       "      <td>119000</td>\n",
       "      <td>Diesel</td>\n",
       "      <td>Individual</td>\n",
       "      <td>Manual</td>\n",
       "      <td>Fourth &amp; Above Owner</td>\n",
       "      <td>16.8 kmpl</td>\n",
       "      <td>1493 CC</td>\n",
       "      <td>110 bhp</td>\n",
       "      <td>24@ 1,900-2,750(kgm@ rpm)</td>\n",
       "      <td>5.0</td>\n",
       "    </tr>\n",
       "    <tr>\n",
       "      <th>8124</th>\n",
       "      <td>8124</td>\n",
       "      <td>Maruti Swift Dzire ZDi</td>\n",
       "      <td>2009</td>\n",
       "      <td>382000</td>\n",
       "      <td>120000</td>\n",
       "      <td>Diesel</td>\n",
       "      <td>Individual</td>\n",
       "      <td>Manual</td>\n",
       "      <td>First Owner</td>\n",
       "      <td>19.3 kmpl</td>\n",
       "      <td>1248 CC</td>\n",
       "      <td>73.9 bhp</td>\n",
       "      <td>190Nm@ 2000rpm</td>\n",
       "      <td>5.0</td>\n",
       "    </tr>\n",
       "    <tr>\n",
       "      <th>8125</th>\n",
       "      <td>8125</td>\n",
       "      <td>Tata Indigo CR4</td>\n",
       "      <td>2013</td>\n",
       "      <td>290000</td>\n",
       "      <td>25000</td>\n",
       "      <td>Diesel</td>\n",
       "      <td>Individual</td>\n",
       "      <td>Manual</td>\n",
       "      <td>First Owner</td>\n",
       "      <td>23.57 kmpl</td>\n",
       "      <td>1396 CC</td>\n",
       "      <td>70 bhp</td>\n",
       "      <td>140Nm@ 1800-3000rpm</td>\n",
       "      <td>5.0</td>\n",
       "    </tr>\n",
       "    <tr>\n",
       "      <th>8126</th>\n",
       "      <td>8126</td>\n",
       "      <td>Tata Indigo CR4</td>\n",
       "      <td>2013</td>\n",
       "      <td>290000</td>\n",
       "      <td>25000</td>\n",
       "      <td>Diesel</td>\n",
       "      <td>Individual</td>\n",
       "      <td>Manual</td>\n",
       "      <td>First Owner</td>\n",
       "      <td>23.57 kmpl</td>\n",
       "      <td>1396 CC</td>\n",
       "      <td>70 bhp</td>\n",
       "      <td>140Nm@ 1800-3000rpm</td>\n",
       "      <td>5.0</td>\n",
       "    </tr>\n",
       "  </tbody>\n",
       "</table>\n",
       "<p>8127 rows × 14 columns</p>\n",
       "</div>"
      ],
      "text/plain": [
       "      Unnamed: 0                          name  year  selling_price  \\\n",
       "0              0        Maruti Swift Dzire VDI  2014         450000   \n",
       "1              1  Skoda Rapid 1.5 TDI Ambition  2014         370000   \n",
       "2              2      Honda City 2017-2020 EXi  2006         158000   \n",
       "3              3     Hyundai i20 Sportz Diesel  2010         225000   \n",
       "4              4        Maruti Swift VXI BSIII  2007         130000   \n",
       "...          ...                           ...   ...            ...   \n",
       "8122        8122             Hyundai i20 Magna  2013         320000   \n",
       "8123        8123         Hyundai Verna CRDi SX  2007         135000   \n",
       "8124        8124        Maruti Swift Dzire ZDi  2009         382000   \n",
       "8125        8125               Tata Indigo CR4  2013         290000   \n",
       "8126        8126               Tata Indigo CR4  2013         290000   \n",
       "\n",
       "      km_driven    fuel seller_type transmission                 owner  \\\n",
       "0        145500  Diesel  Individual       Manual           First Owner   \n",
       "1        120000  Diesel  Individual       Manual          Second Owner   \n",
       "2        140000  Petrol  Individual       Manual           Third Owner   \n",
       "3        127000  Diesel  Individual       Manual           First Owner   \n",
       "4        120000  Petrol  Individual       Manual           First Owner   \n",
       "...         ...     ...         ...          ...                   ...   \n",
       "8122     110000  Petrol  Individual       Manual           First Owner   \n",
       "8123     119000  Diesel  Individual       Manual  Fourth & Above Owner   \n",
       "8124     120000  Diesel  Individual       Manual           First Owner   \n",
       "8125      25000  Diesel  Individual       Manual           First Owner   \n",
       "8126      25000  Diesel  Individual       Manual           First Owner   \n",
       "\n",
       "         mileage   engine   max_power                     torque  seats  \n",
       "0      23.4 kmpl  1248 CC      74 bhp             190Nm@ 2000rpm    5.0  \n",
       "1     21.14 kmpl  1498 CC  103.52 bhp        250Nm@ 1500-2500rpm    5.0  \n",
       "2      17.7 kmpl  1497 CC      78 bhp      12.7@ 2,700(kgm@ rpm)    5.0  \n",
       "3      23.0 kmpl  1396 CC      90 bhp   22.4 kgm at 1750-2750rpm    5.0  \n",
       "4      16.1 kmpl  1298 CC    88.2 bhp      11.5@ 4,500(kgm@ rpm)    5.0  \n",
       "...          ...      ...         ...                        ...    ...  \n",
       "8122   18.5 kmpl  1197 CC   82.85 bhp           113.7Nm@ 4000rpm    5.0  \n",
       "8123   16.8 kmpl  1493 CC     110 bhp  24@ 1,900-2,750(kgm@ rpm)    5.0  \n",
       "8124   19.3 kmpl  1248 CC    73.9 bhp             190Nm@ 2000rpm    5.0  \n",
       "8125  23.57 kmpl  1396 CC      70 bhp        140Nm@ 1800-3000rpm    5.0  \n",
       "8126  23.57 kmpl  1396 CC      70 bhp        140Nm@ 1800-3000rpm    5.0  \n",
       "\n",
       "[8127 rows x 14 columns]"
      ]
     },
     "execution_count": 1,
     "metadata": {},
     "output_type": "execute_result"
    }
   ],
   "source": [
    "import pandas as pd\n",
    "df=pd.read_csv(r\"C:\\Users\\rizwan\\Downloads\\Car1.csv\")\n",
    "df"
   ]
  },
  {
   "cell_type": "code",
   "execution_count": 2,
   "id": "76b23251-8ccd-4ba0-b765-2ca9d572779a",
   "metadata": {},
   "outputs": [
    {
     "data": {
      "text/html": [
       "<div>\n",
       "<style scoped>\n",
       "    .dataframe tbody tr th:only-of-type {\n",
       "        vertical-align: middle;\n",
       "    }\n",
       "\n",
       "    .dataframe tbody tr th {\n",
       "        vertical-align: top;\n",
       "    }\n",
       "\n",
       "    .dataframe thead th {\n",
       "        text-align: right;\n",
       "    }\n",
       "</style>\n",
       "<table border=\"1\" class=\"dataframe\">\n",
       "  <thead>\n",
       "    <tr style=\"text-align: right;\">\n",
       "      <th></th>\n",
       "      <th>Unnamed: 0</th>\n",
       "      <th>name</th>\n",
       "      <th>year</th>\n",
       "      <th>selling_price</th>\n",
       "      <th>km_driven</th>\n",
       "      <th>fuel</th>\n",
       "      <th>seller_type</th>\n",
       "      <th>transmission</th>\n",
       "      <th>owner</th>\n",
       "      <th>mileage</th>\n",
       "      <th>engine</th>\n",
       "      <th>max_power</th>\n",
       "      <th>torque</th>\n",
       "      <th>seats</th>\n",
       "    </tr>\n",
       "  </thead>\n",
       "  <tbody>\n",
       "    <tr>\n",
       "      <th>0</th>\n",
       "      <td>0</td>\n",
       "      <td>Maruti Swift Dzire VDI</td>\n",
       "      <td>2014</td>\n",
       "      <td>450000</td>\n",
       "      <td>145500</td>\n",
       "      <td>Diesel</td>\n",
       "      <td>Individual</td>\n",
       "      <td>Manual</td>\n",
       "      <td>First Owner</td>\n",
       "      <td>23.4 kmpl</td>\n",
       "      <td>1248 CC</td>\n",
       "      <td>74 bhp</td>\n",
       "      <td>190Nm@ 2000rpm</td>\n",
       "      <td>5.0</td>\n",
       "    </tr>\n",
       "    <tr>\n",
       "      <th>1</th>\n",
       "      <td>1</td>\n",
       "      <td>Skoda Rapid 1.5 TDI Ambition</td>\n",
       "      <td>2014</td>\n",
       "      <td>370000</td>\n",
       "      <td>120000</td>\n",
       "      <td>Diesel</td>\n",
       "      <td>Individual</td>\n",
       "      <td>Manual</td>\n",
       "      <td>Second Owner</td>\n",
       "      <td>21.14 kmpl</td>\n",
       "      <td>1498 CC</td>\n",
       "      <td>103.52 bhp</td>\n",
       "      <td>250Nm@ 1500-2500rpm</td>\n",
       "      <td>5.0</td>\n",
       "    </tr>\n",
       "    <tr>\n",
       "      <th>2</th>\n",
       "      <td>2</td>\n",
       "      <td>Honda City 2017-2020 EXi</td>\n",
       "      <td>2006</td>\n",
       "      <td>158000</td>\n",
       "      <td>140000</td>\n",
       "      <td>Petrol</td>\n",
       "      <td>Individual</td>\n",
       "      <td>Manual</td>\n",
       "      <td>Third Owner</td>\n",
       "      <td>17.7 kmpl</td>\n",
       "      <td>1497 CC</td>\n",
       "      <td>78 bhp</td>\n",
       "      <td>12.7@ 2,700(kgm@ rpm)</td>\n",
       "      <td>5.0</td>\n",
       "    </tr>\n",
       "    <tr>\n",
       "      <th>3</th>\n",
       "      <td>3</td>\n",
       "      <td>Hyundai i20 Sportz Diesel</td>\n",
       "      <td>2010</td>\n",
       "      <td>225000</td>\n",
       "      <td>127000</td>\n",
       "      <td>Diesel</td>\n",
       "      <td>Individual</td>\n",
       "      <td>Manual</td>\n",
       "      <td>First Owner</td>\n",
       "      <td>23.0 kmpl</td>\n",
       "      <td>1396 CC</td>\n",
       "      <td>90 bhp</td>\n",
       "      <td>22.4 kgm at 1750-2750rpm</td>\n",
       "      <td>5.0</td>\n",
       "    </tr>\n",
       "    <tr>\n",
       "      <th>4</th>\n",
       "      <td>4</td>\n",
       "      <td>Maruti Swift VXI BSIII</td>\n",
       "      <td>2007</td>\n",
       "      <td>130000</td>\n",
       "      <td>120000</td>\n",
       "      <td>Petrol</td>\n",
       "      <td>Individual</td>\n",
       "      <td>Manual</td>\n",
       "      <td>First Owner</td>\n",
       "      <td>16.1 kmpl</td>\n",
       "      <td>1298 CC</td>\n",
       "      <td>88.2 bhp</td>\n",
       "      <td>11.5@ 4,500(kgm@ rpm)</td>\n",
       "      <td>5.0</td>\n",
       "    </tr>\n",
       "    <tr>\n",
       "      <th>...</th>\n",
       "      <td>...</td>\n",
       "      <td>...</td>\n",
       "      <td>...</td>\n",
       "      <td>...</td>\n",
       "      <td>...</td>\n",
       "      <td>...</td>\n",
       "      <td>...</td>\n",
       "      <td>...</td>\n",
       "      <td>...</td>\n",
       "      <td>...</td>\n",
       "      <td>...</td>\n",
       "      <td>...</td>\n",
       "      <td>...</td>\n",
       "      <td>...</td>\n",
       "    </tr>\n",
       "    <tr>\n",
       "      <th>8122</th>\n",
       "      <td>8122</td>\n",
       "      <td>Hyundai i20 Magna</td>\n",
       "      <td>2013</td>\n",
       "      <td>320000</td>\n",
       "      <td>110000</td>\n",
       "      <td>Petrol</td>\n",
       "      <td>Individual</td>\n",
       "      <td>Manual</td>\n",
       "      <td>First Owner</td>\n",
       "      <td>18.5 kmpl</td>\n",
       "      <td>1197 CC</td>\n",
       "      <td>82.85 bhp</td>\n",
       "      <td>113.7Nm@ 4000rpm</td>\n",
       "      <td>5.0</td>\n",
       "    </tr>\n",
       "    <tr>\n",
       "      <th>8123</th>\n",
       "      <td>8123</td>\n",
       "      <td>Hyundai Verna CRDi SX</td>\n",
       "      <td>2007</td>\n",
       "      <td>135000</td>\n",
       "      <td>119000</td>\n",
       "      <td>Diesel</td>\n",
       "      <td>Individual</td>\n",
       "      <td>Manual</td>\n",
       "      <td>Fourth &amp; Above Owner</td>\n",
       "      <td>16.8 kmpl</td>\n",
       "      <td>1493 CC</td>\n",
       "      <td>110 bhp</td>\n",
       "      <td>24@ 1,900-2,750(kgm@ rpm)</td>\n",
       "      <td>5.0</td>\n",
       "    </tr>\n",
       "    <tr>\n",
       "      <th>8124</th>\n",
       "      <td>8124</td>\n",
       "      <td>Maruti Swift Dzire ZDi</td>\n",
       "      <td>2009</td>\n",
       "      <td>382000</td>\n",
       "      <td>120000</td>\n",
       "      <td>Diesel</td>\n",
       "      <td>Individual</td>\n",
       "      <td>Manual</td>\n",
       "      <td>First Owner</td>\n",
       "      <td>19.3 kmpl</td>\n",
       "      <td>1248 CC</td>\n",
       "      <td>73.9 bhp</td>\n",
       "      <td>190Nm@ 2000rpm</td>\n",
       "      <td>5.0</td>\n",
       "    </tr>\n",
       "    <tr>\n",
       "      <th>8125</th>\n",
       "      <td>8125</td>\n",
       "      <td>Tata Indigo CR4</td>\n",
       "      <td>2013</td>\n",
       "      <td>290000</td>\n",
       "      <td>25000</td>\n",
       "      <td>Diesel</td>\n",
       "      <td>Individual</td>\n",
       "      <td>Manual</td>\n",
       "      <td>First Owner</td>\n",
       "      <td>23.57 kmpl</td>\n",
       "      <td>1396 CC</td>\n",
       "      <td>70 bhp</td>\n",
       "      <td>140Nm@ 1800-3000rpm</td>\n",
       "      <td>5.0</td>\n",
       "    </tr>\n",
       "    <tr>\n",
       "      <th>8126</th>\n",
       "      <td>8126</td>\n",
       "      <td>Tata Indigo CR4</td>\n",
       "      <td>2013</td>\n",
       "      <td>290000</td>\n",
       "      <td>25000</td>\n",
       "      <td>Diesel</td>\n",
       "      <td>Individual</td>\n",
       "      <td>Manual</td>\n",
       "      <td>First Owner</td>\n",
       "      <td>23.57 kmpl</td>\n",
       "      <td>1396 CC</td>\n",
       "      <td>70 bhp</td>\n",
       "      <td>140Nm@ 1800-3000rpm</td>\n",
       "      <td>5.0</td>\n",
       "    </tr>\n",
       "  </tbody>\n",
       "</table>\n",
       "<p>8127 rows × 14 columns</p>\n",
       "</div>"
      ],
      "text/plain": [
       "      Unnamed: 0                          name  year  selling_price  \\\n",
       "0              0        Maruti Swift Dzire VDI  2014         450000   \n",
       "1              1  Skoda Rapid 1.5 TDI Ambition  2014         370000   \n",
       "2              2      Honda City 2017-2020 EXi  2006         158000   \n",
       "3              3     Hyundai i20 Sportz Diesel  2010         225000   \n",
       "4              4        Maruti Swift VXI BSIII  2007         130000   \n",
       "...          ...                           ...   ...            ...   \n",
       "8122        8122             Hyundai i20 Magna  2013         320000   \n",
       "8123        8123         Hyundai Verna CRDi SX  2007         135000   \n",
       "8124        8124        Maruti Swift Dzire ZDi  2009         382000   \n",
       "8125        8125               Tata Indigo CR4  2013         290000   \n",
       "8126        8126               Tata Indigo CR4  2013         290000   \n",
       "\n",
       "      km_driven    fuel seller_type transmission                 owner  \\\n",
       "0        145500  Diesel  Individual       Manual           First Owner   \n",
       "1        120000  Diesel  Individual       Manual          Second Owner   \n",
       "2        140000  Petrol  Individual       Manual           Third Owner   \n",
       "3        127000  Diesel  Individual       Manual           First Owner   \n",
       "4        120000  Petrol  Individual       Manual           First Owner   \n",
       "...         ...     ...         ...          ...                   ...   \n",
       "8122     110000  Petrol  Individual       Manual           First Owner   \n",
       "8123     119000  Diesel  Individual       Manual  Fourth & Above Owner   \n",
       "8124     120000  Diesel  Individual       Manual           First Owner   \n",
       "8125      25000  Diesel  Individual       Manual           First Owner   \n",
       "8126      25000  Diesel  Individual       Manual           First Owner   \n",
       "\n",
       "         mileage   engine   max_power                     torque  seats  \n",
       "0      23.4 kmpl  1248 CC      74 bhp             190Nm@ 2000rpm    5.0  \n",
       "1     21.14 kmpl  1498 CC  103.52 bhp        250Nm@ 1500-2500rpm    5.0  \n",
       "2      17.7 kmpl  1497 CC      78 bhp      12.7@ 2,700(kgm@ rpm)    5.0  \n",
       "3      23.0 kmpl  1396 CC      90 bhp   22.4 kgm at 1750-2750rpm    5.0  \n",
       "4      16.1 kmpl  1298 CC    88.2 bhp      11.5@ 4,500(kgm@ rpm)    5.0  \n",
       "...          ...      ...         ...                        ...    ...  \n",
       "8122   18.5 kmpl  1197 CC   82.85 bhp           113.7Nm@ 4000rpm    5.0  \n",
       "8123   16.8 kmpl  1493 CC     110 bhp  24@ 1,900-2,750(kgm@ rpm)    5.0  \n",
       "8124   19.3 kmpl  1248 CC    73.9 bhp             190Nm@ 2000rpm    5.0  \n",
       "8125  23.57 kmpl  1396 CC      70 bhp        140Nm@ 1800-3000rpm    5.0  \n",
       "8126  23.57 kmpl  1396 CC      70 bhp        140Nm@ 1800-3000rpm    5.0  \n",
       "\n",
       "[8127 rows x 14 columns]"
      ]
     },
     "execution_count": 2,
     "metadata": {},
     "output_type": "execute_result"
    }
   ],
   "source": [
    "df.iloc[:,1:]\n",
    "df"
   ]
  },
  {
   "cell_type": "code",
   "execution_count": 3,
   "id": "aa146212-7650-4653-901e-fa649188a89b",
   "metadata": {},
   "outputs": [
    {
     "data": {
      "text/plain": [
       "Unnamed: 0         0\n",
       "name               0\n",
       "year               0\n",
       "selling_price      0\n",
       "km_driven          0\n",
       "fuel               0\n",
       "seller_type        0\n",
       "transmission       0\n",
       "owner              0\n",
       "mileage          221\n",
       "engine           221\n",
       "max_power        215\n",
       "torque           221\n",
       "seats            221\n",
       "dtype: int64"
      ]
     },
     "execution_count": 3,
     "metadata": {},
     "output_type": "execute_result"
    }
   ],
   "source": [
    "df.isnull().sum()"
   ]
  },
  {
   "cell_type": "code",
   "execution_count": 4,
   "id": "2c520a66-87fe-45e9-bbb0-3c2990e9a297",
   "metadata": {},
   "outputs": [
    {
     "data": {
      "text/plain": [
       "Unnamed: 0       0\n",
       "name             0\n",
       "year             0\n",
       "selling_price    0\n",
       "km_driven        0\n",
       "fuel             0\n",
       "seller_type      0\n",
       "transmission     0\n",
       "owner            0\n",
       "mileage          0\n",
       "engine           0\n",
       "max_power        0\n",
       "torque           0\n",
       "seats            0\n",
       "dtype: int64"
      ]
     },
     "execution_count": 4,
     "metadata": {},
     "output_type": "execute_result"
    }
   ],
   "source": [
    "df=df.dropna(how=\"any\")\n",
    "df.reset_index(drop=True)\n",
    "df.isnull().sum()"
   ]
  },
  {
   "cell_type": "code",
   "execution_count": 5,
   "id": "493f346a-10fa-4dba-9c66-4f3d2b3020c8",
   "metadata": {},
   "outputs": [
    {
     "name": "stdout",
     "output_type": "stream",
     "text": [
      "seats\n",
      "5.0     6254\n",
      "7.0     1120\n",
      "8.0      235\n",
      "4.0      133\n",
      "9.0       80\n",
      "6.0       62\n",
      "10.0      19\n",
      "2.0        2\n",
      "14.0       1\n",
      "Name: count, dtype: int64\n"
     ]
    }
   ],
   "source": [
    "print(df[\"seats\"].value_counts())"
   ]
  },
  {
   "cell_type": "code",
   "execution_count": 6,
   "id": "f300d57e-56f1-4edf-9ca2-635e9bd943c2",
   "metadata": {},
   "outputs": [],
   "source": [
    "df=df.drop(columns=[\"torque\",\"Unnamed: 0\"])\n",
    "#we can not simlifay torque column that is why we have to drop it"
   ]
  },
  {
   "cell_type": "code",
   "execution_count": 7,
   "id": "6db1c98d-e3cf-4c18-8186-9819a0dfba91",
   "metadata": {},
   "outputs": [
    {
     "data": {
      "text/html": [
       "<div>\n",
       "<style scoped>\n",
       "    .dataframe tbody tr th:only-of-type {\n",
       "        vertical-align: middle;\n",
       "    }\n",
       "\n",
       "    .dataframe tbody tr th {\n",
       "        vertical-align: top;\n",
       "    }\n",
       "\n",
       "    .dataframe thead th {\n",
       "        text-align: right;\n",
       "    }\n",
       "</style>\n",
       "<table border=\"1\" class=\"dataframe\">\n",
       "  <thead>\n",
       "    <tr style=\"text-align: right;\">\n",
       "      <th></th>\n",
       "      <th>name</th>\n",
       "      <th>year</th>\n",
       "      <th>selling_price</th>\n",
       "      <th>km_driven</th>\n",
       "      <th>fuel</th>\n",
       "      <th>seller_type</th>\n",
       "      <th>transmission</th>\n",
       "      <th>owner</th>\n",
       "      <th>mileage</th>\n",
       "      <th>engine</th>\n",
       "      <th>max_power</th>\n",
       "      <th>seats</th>\n",
       "    </tr>\n",
       "  </thead>\n",
       "  <tbody>\n",
       "    <tr>\n",
       "      <th>0</th>\n",
       "      <td>Maruti Swift Dzire VDI</td>\n",
       "      <td>2014</td>\n",
       "      <td>450000</td>\n",
       "      <td>145500</td>\n",
       "      <td>Diesel</td>\n",
       "      <td>Individual</td>\n",
       "      <td>Manual</td>\n",
       "      <td>First Owner</td>\n",
       "      <td>23.4 kmpl</td>\n",
       "      <td>1248 CC</td>\n",
       "      <td>74 bhp</td>\n",
       "      <td>5.0</td>\n",
       "    </tr>\n",
       "    <tr>\n",
       "      <th>1</th>\n",
       "      <td>Skoda Rapid 1.5 TDI Ambition</td>\n",
       "      <td>2014</td>\n",
       "      <td>370000</td>\n",
       "      <td>120000</td>\n",
       "      <td>Diesel</td>\n",
       "      <td>Individual</td>\n",
       "      <td>Manual</td>\n",
       "      <td>Second Owner</td>\n",
       "      <td>21.14 kmpl</td>\n",
       "      <td>1498 CC</td>\n",
       "      <td>103.52 bhp</td>\n",
       "      <td>5.0</td>\n",
       "    </tr>\n",
       "    <tr>\n",
       "      <th>2</th>\n",
       "      <td>Honda City 2017-2020 EXi</td>\n",
       "      <td>2006</td>\n",
       "      <td>158000</td>\n",
       "      <td>140000</td>\n",
       "      <td>Petrol</td>\n",
       "      <td>Individual</td>\n",
       "      <td>Manual</td>\n",
       "      <td>Third Owner</td>\n",
       "      <td>17.7 kmpl</td>\n",
       "      <td>1497 CC</td>\n",
       "      <td>78 bhp</td>\n",
       "      <td>5.0</td>\n",
       "    </tr>\n",
       "    <tr>\n",
       "      <th>3</th>\n",
       "      <td>Hyundai i20 Sportz Diesel</td>\n",
       "      <td>2010</td>\n",
       "      <td>225000</td>\n",
       "      <td>127000</td>\n",
       "      <td>Diesel</td>\n",
       "      <td>Individual</td>\n",
       "      <td>Manual</td>\n",
       "      <td>First Owner</td>\n",
       "      <td>23.0 kmpl</td>\n",
       "      <td>1396 CC</td>\n",
       "      <td>90 bhp</td>\n",
       "      <td>5.0</td>\n",
       "    </tr>\n",
       "    <tr>\n",
       "      <th>4</th>\n",
       "      <td>Maruti Swift VXI BSIII</td>\n",
       "      <td>2007</td>\n",
       "      <td>130000</td>\n",
       "      <td>120000</td>\n",
       "      <td>Petrol</td>\n",
       "      <td>Individual</td>\n",
       "      <td>Manual</td>\n",
       "      <td>First Owner</td>\n",
       "      <td>16.1 kmpl</td>\n",
       "      <td>1298 CC</td>\n",
       "      <td>88.2 bhp</td>\n",
       "      <td>5.0</td>\n",
       "    </tr>\n",
       "    <tr>\n",
       "      <th>...</th>\n",
       "      <td>...</td>\n",
       "      <td>...</td>\n",
       "      <td>...</td>\n",
       "      <td>...</td>\n",
       "      <td>...</td>\n",
       "      <td>...</td>\n",
       "      <td>...</td>\n",
       "      <td>...</td>\n",
       "      <td>...</td>\n",
       "      <td>...</td>\n",
       "      <td>...</td>\n",
       "      <td>...</td>\n",
       "    </tr>\n",
       "    <tr>\n",
       "      <th>8122</th>\n",
       "      <td>Hyundai i20 Magna</td>\n",
       "      <td>2013</td>\n",
       "      <td>320000</td>\n",
       "      <td>110000</td>\n",
       "      <td>Petrol</td>\n",
       "      <td>Individual</td>\n",
       "      <td>Manual</td>\n",
       "      <td>First Owner</td>\n",
       "      <td>18.5 kmpl</td>\n",
       "      <td>1197 CC</td>\n",
       "      <td>82.85 bhp</td>\n",
       "      <td>5.0</td>\n",
       "    </tr>\n",
       "    <tr>\n",
       "      <th>8123</th>\n",
       "      <td>Hyundai Verna CRDi SX</td>\n",
       "      <td>2007</td>\n",
       "      <td>135000</td>\n",
       "      <td>119000</td>\n",
       "      <td>Diesel</td>\n",
       "      <td>Individual</td>\n",
       "      <td>Manual</td>\n",
       "      <td>Fourth &amp; Above Owner</td>\n",
       "      <td>16.8 kmpl</td>\n",
       "      <td>1493 CC</td>\n",
       "      <td>110 bhp</td>\n",
       "      <td>5.0</td>\n",
       "    </tr>\n",
       "    <tr>\n",
       "      <th>8124</th>\n",
       "      <td>Maruti Swift Dzire ZDi</td>\n",
       "      <td>2009</td>\n",
       "      <td>382000</td>\n",
       "      <td>120000</td>\n",
       "      <td>Diesel</td>\n",
       "      <td>Individual</td>\n",
       "      <td>Manual</td>\n",
       "      <td>First Owner</td>\n",
       "      <td>19.3 kmpl</td>\n",
       "      <td>1248 CC</td>\n",
       "      <td>73.9 bhp</td>\n",
       "      <td>5.0</td>\n",
       "    </tr>\n",
       "    <tr>\n",
       "      <th>8125</th>\n",
       "      <td>Tata Indigo CR4</td>\n",
       "      <td>2013</td>\n",
       "      <td>290000</td>\n",
       "      <td>25000</td>\n",
       "      <td>Diesel</td>\n",
       "      <td>Individual</td>\n",
       "      <td>Manual</td>\n",
       "      <td>First Owner</td>\n",
       "      <td>23.57 kmpl</td>\n",
       "      <td>1396 CC</td>\n",
       "      <td>70 bhp</td>\n",
       "      <td>5.0</td>\n",
       "    </tr>\n",
       "    <tr>\n",
       "      <th>8126</th>\n",
       "      <td>Tata Indigo CR4</td>\n",
       "      <td>2013</td>\n",
       "      <td>290000</td>\n",
       "      <td>25000</td>\n",
       "      <td>Diesel</td>\n",
       "      <td>Individual</td>\n",
       "      <td>Manual</td>\n",
       "      <td>First Owner</td>\n",
       "      <td>23.57 kmpl</td>\n",
       "      <td>1396 CC</td>\n",
       "      <td>70 bhp</td>\n",
       "      <td>5.0</td>\n",
       "    </tr>\n",
       "  </tbody>\n",
       "</table>\n",
       "<p>7906 rows × 12 columns</p>\n",
       "</div>"
      ],
      "text/plain": [
       "                              name  year  selling_price  km_driven    fuel  \\\n",
       "0           Maruti Swift Dzire VDI  2014         450000     145500  Diesel   \n",
       "1     Skoda Rapid 1.5 TDI Ambition  2014         370000     120000  Diesel   \n",
       "2         Honda City 2017-2020 EXi  2006         158000     140000  Petrol   \n",
       "3        Hyundai i20 Sportz Diesel  2010         225000     127000  Diesel   \n",
       "4           Maruti Swift VXI BSIII  2007         130000     120000  Petrol   \n",
       "...                            ...   ...            ...        ...     ...   \n",
       "8122             Hyundai i20 Magna  2013         320000     110000  Petrol   \n",
       "8123         Hyundai Verna CRDi SX  2007         135000     119000  Diesel   \n",
       "8124        Maruti Swift Dzire ZDi  2009         382000     120000  Diesel   \n",
       "8125               Tata Indigo CR4  2013         290000      25000  Diesel   \n",
       "8126               Tata Indigo CR4  2013         290000      25000  Diesel   \n",
       "\n",
       "     seller_type transmission                 owner     mileage   engine  \\\n",
       "0     Individual       Manual           First Owner   23.4 kmpl  1248 CC   \n",
       "1     Individual       Manual          Second Owner  21.14 kmpl  1498 CC   \n",
       "2     Individual       Manual           Third Owner   17.7 kmpl  1497 CC   \n",
       "3     Individual       Manual           First Owner   23.0 kmpl  1396 CC   \n",
       "4     Individual       Manual           First Owner   16.1 kmpl  1298 CC   \n",
       "...          ...          ...                   ...         ...      ...   \n",
       "8122  Individual       Manual           First Owner   18.5 kmpl  1197 CC   \n",
       "8123  Individual       Manual  Fourth & Above Owner   16.8 kmpl  1493 CC   \n",
       "8124  Individual       Manual           First Owner   19.3 kmpl  1248 CC   \n",
       "8125  Individual       Manual           First Owner  23.57 kmpl  1396 CC   \n",
       "8126  Individual       Manual           First Owner  23.57 kmpl  1396 CC   \n",
       "\n",
       "       max_power  seats  \n",
       "0         74 bhp    5.0  \n",
       "1     103.52 bhp    5.0  \n",
       "2         78 bhp    5.0  \n",
       "3         90 bhp    5.0  \n",
       "4       88.2 bhp    5.0  \n",
       "...          ...    ...  \n",
       "8122   82.85 bhp    5.0  \n",
       "8123     110 bhp    5.0  \n",
       "8124    73.9 bhp    5.0  \n",
       "8125      70 bhp    5.0  \n",
       "8126      70 bhp    5.0  \n",
       "\n",
       "[7906 rows x 12 columns]"
      ]
     },
     "execution_count": 7,
     "metadata": {},
     "output_type": "execute_result"
    }
   ],
   "source": [
    "df"
   ]
  },
  {
   "cell_type": "code",
   "execution_count": 8,
   "id": "4afadb8c-57cb-4220-b79a-3be10a919c39",
   "metadata": {},
   "outputs": [
    {
     "name": "stdout",
     "output_type": "stream",
     "text": [
      "max_power\n",
      "74 bhp        377\n",
      "81.80 bhp     220\n",
      "88.5 bhp      204\n",
      "67 bhp        165\n",
      "46.3 bhp      162\n",
      "             ... \n",
      "57 bhp          1\n",
      "58.33 bhp       1\n",
      "68.4 bhp        1\n",
      "170.63 bhp      1\n",
      "135.1 bhp       1\n",
      "Name: count, Length: 321, dtype: int64\n"
     ]
    }
   ],
   "source": [
    "print(df[\"max_power\"].value_counts())"
   ]
  },
  {
   "cell_type": "code",
   "execution_count": 9,
   "id": "2f13400d-47ee-407d-9962-d77d5e88d7f0",
   "metadata": {},
   "outputs": [
    {
     "data": {
      "text/plain": [
       "0           74\n",
       "1       103.52\n",
       "2           78\n",
       "3           90\n",
       "4         88.2\n",
       "         ...  \n",
       "8122     82.85\n",
       "8123       110\n",
       "8124      73.9\n",
       "8125        70\n",
       "8126        70\n",
       "Name: max_power, Length: 7906, dtype: object"
      ]
     },
     "execution_count": 9,
     "metadata": {},
     "output_type": "execute_result"
    }
   ],
   "source": [
    "def abc(x):\n",
    "    return x.split()[0]\n",
    "df[\"max_power\"] = df[\"max_power\"].apply(abc)\n",
    "df[\"max_power\"] \n",
    "\n"
   ]
  },
  {
   "cell_type": "code",
   "execution_count": 41,
   "id": "122af92b-ec65-47b0-9f3f-059485bb4841",
   "metadata": {},
   "outputs": [
    {
     "name": "stdout",
     "output_type": "stream",
     "text": [
      "[839]\n"
     ]
    }
   ],
   "source": [
    "l=[]#here we have \".bhp in some row so we use loof to get the .bhp row then delete it after it will convates str to float\"\n",
    "for i in range(len(df)):\n",
    "    try:\n",
    "        float(df.iloc[i,-2])\n",
    "    except:\n",
    "        l.append(i)\n",
    "print(l)\n",
    "df=df.drop(index=l)\n",
    "df=df.reset_index(drop=True)"
   ]
  },
  {
   "cell_type": "code",
   "execution_count": 43,
   "id": "ccbbccb9-b95f-46bc-894c-837d5907ee03",
   "metadata": {},
   "outputs": [
    {
     "data": {
      "text/plain": [
       "0        74.00\n",
       "1       103.52\n",
       "2        78.00\n",
       "3        90.00\n",
       "4        88.20\n",
       "         ...  \n",
       "7899     82.85\n",
       "7900    110.00\n",
       "7901     73.90\n",
       "7902     70.00\n",
       "7903     70.00\n",
       "Name: max_power, Length: 7904, dtype: float64"
      ]
     },
     "execution_count": 43,
     "metadata": {},
     "output_type": "execute_result"
    }
   ],
   "source": [
    "df[\"max_power\"] = df[\"max_power\"].astype(\"float64\")\n",
    "df[\"max_power\"]"
   ]
  },
  {
   "cell_type": "code",
   "execution_count": 45,
   "id": "4810a6d5-0af7-46fb-986b-3facb7938613",
   "metadata": {},
   "outputs": [
    {
     "data": {
      "text/plain": [
       "0       1248\n",
       "1       1498\n",
       "2       1497\n",
       "3       1396\n",
       "4       1298\n",
       "        ... \n",
       "7899    1197\n",
       "7900    1493\n",
       "7901    1248\n",
       "7902    1396\n",
       "7903    1396\n",
       "Name: engine, Length: 7904, dtype: object"
      ]
     },
     "execution_count": 45,
     "metadata": {},
     "output_type": "execute_result"
    }
   ],
   "source": [
    "def xyz(x):\n",
    "    return x.split()[0]\n",
    "df[\"engine\"] = df[\"engine\"].apply(xyz)\n",
    "df[\"engine\"]"
   ]
  },
  {
   "cell_type": "code",
   "execution_count": 47,
   "id": "074dcccf-e4f6-4f2d-8da2-cbd6991f5cbb",
   "metadata": {},
   "outputs": [
    {
     "name": "stdout",
     "output_type": "stream",
     "text": [
      "[967]\n"
     ]
    }
   ],
   "source": [
    "p=[]#here we have \".bhp in some row so we use loof to get the .bhp row then delete it after it will convates str to float\"\n",
    "for i in range(len(df)):\n",
    "    try:\n",
    "        float(df.iloc[i,-3])\n",
    "    except:\n",
    "        p.append(i)\n",
    "print(p)\n",
    "df=df.drop(index=p)\n",
    "df=df.reset_index(drop=True)"
   ]
  },
  {
   "cell_type": "code",
   "execution_count": 49,
   "id": "c1495e58-f2cd-42e2-aa3c-54c7049ca126",
   "metadata": {},
   "outputs": [
    {
     "data": {
      "text/plain": [
       "0       1248\n",
       "1       1498\n",
       "2       1497\n",
       "3       1396\n",
       "4       1298\n",
       "        ... \n",
       "7898    1197\n",
       "7899    1493\n",
       "7900    1248\n",
       "7901    1396\n",
       "7902    1396\n",
       "Name: engine, Length: 7903, dtype: int32"
      ]
     },
     "execution_count": 49,
     "metadata": {},
     "output_type": "execute_result"
    }
   ],
   "source": [
    "df[\"engine\"] = df[\"engine\"].astype(\"int32\")\n",
    "df[\"engine\"]"
   ]
  },
  {
   "cell_type": "code",
   "execution_count": 51,
   "id": "00cc3cca-adc2-4603-9885-ba61a37b9d44",
   "metadata": {},
   "outputs": [
    {
     "data": {
      "text/plain": [
       "0        23.4\n",
       "1       21.14\n",
       "2        17.7\n",
       "3        23.0\n",
       "4        16.1\n",
       "        ...  \n",
       "7898     18.5\n",
       "7899     16.8\n",
       "7900     19.3\n",
       "7901    23.57\n",
       "7902    23.57\n",
       "Name: mileage, Length: 7903, dtype: object"
      ]
     },
     "execution_count": 51,
     "metadata": {},
     "output_type": "execute_result"
    }
   ],
   "source": [
    "def abc(x):\n",
    "    return x.split()[0]\n",
    "df[\"mileage\"] = df[\"mileage\"].apply(abc)\n",
    "df[\"mileage\"] "
   ]
  },
  {
   "cell_type": "code",
   "execution_count": 53,
   "id": "26d0b519-8496-438c-b522-16a4c3098690",
   "metadata": {},
   "outputs": [
    {
     "data": {
      "text/plain": [
       "0       23.40\n",
       "1       21.14\n",
       "2       17.70\n",
       "3       23.00\n",
       "4       16.10\n",
       "        ...  \n",
       "7898    18.50\n",
       "7899    16.80\n",
       "7900    19.30\n",
       "7901    23.57\n",
       "7902    23.57\n",
       "Name: mileage, Length: 7903, dtype: float64"
      ]
     },
     "execution_count": 53,
     "metadata": {},
     "output_type": "execute_result"
    }
   ],
   "source": [
    "df[\"mileage\"] = df[\"mileage\"].astype(\"float64\")\n",
    "df[\"mileage\"]"
   ]
  },
  {
   "cell_type": "code",
   "execution_count": 55,
   "id": "0ab7634d-a4a9-4c2c-8973-89bf0933368d",
   "metadata": {},
   "outputs": [
    {
     "name": "stdout",
     "output_type": "stream",
     "text": [
      "[]\n"
     ]
    }
   ],
   "source": [
    "p=[]#here we have \".bhp in some row so we use loof to get the .bhp row then delete it after it will convates str to float\"\n",
    "for i in range(len(df)):\n",
    "    try:\n",
    "        float(df.iloc[i,-4])\n",
    "    except:\n",
    "        p.append(i)\n",
    "print(p)\n",
    "df=df.drop(index=p)\n",
    "df=df.reset_index(drop=True)"
   ]
  },
  {
   "cell_type": "code",
   "execution_count": 57,
   "id": "69e931a9-0c4e-4759-9718-4c7738f59790",
   "metadata": {},
   "outputs": [
    {
     "data": {
      "text/plain": [
       "0       1248.0\n",
       "1       1498.0\n",
       "2       1497.0\n",
       "3       1396.0\n",
       "4       1298.0\n",
       "         ...  \n",
       "7898    1197.0\n",
       "7899    1493.0\n",
       "7900    1248.0\n",
       "7901    1396.0\n",
       "7902    1396.0\n",
       "Name: engine, Length: 7903, dtype: float64"
      ]
     },
     "execution_count": 57,
     "metadata": {},
     "output_type": "execute_result"
    }
   ],
   "source": [
    "df[\"engine\"] = df[\"engine\"].astype(\"float64\")\n",
    "df[\"engine\"]"
   ]
  },
  {
   "cell_type": "code",
   "execution_count": 59,
   "id": "684ed8ff-bc3e-491c-86ce-815e7571bb76",
   "metadata": {},
   "outputs": [
    {
     "name": "stdout",
     "output_type": "stream",
     "text": [
      "owner\n",
      "First Owner             5214\n",
      "Second Owner            2015\n",
      "Third Owner              509\n",
      "Fifth                     86\n",
      "Fourth & Above Owner      74\n",
      "Test Drive Car             5\n",
      "Name: count, dtype: int64\n"
     ]
    }
   ],
   "source": [
    "print(df[\"owner\"].value_counts())"
   ]
  },
  {
   "cell_type": "code",
   "execution_count": 61,
   "id": "9274107b-be3d-4ccf-b009-23d4cf6a3d62",
   "metadata": {},
   "outputs": [
    {
     "name": "stdout",
     "output_type": "stream",
     "text": [
      "owner\n",
      "First Owner             5214\n",
      "Second Owner            2015\n",
      "Third Owner              509\n",
      "Fourth & Above Owner     160\n",
      "Test Drive Car             5\n",
      "Name: count, dtype: int64\n"
     ]
    }
   ],
   "source": [
    "df[\"owner\"]=df[\"owner\"].replace({\"Fifth\":\"Fourth & Above Owner\"})#merge tow rows \n",
    "print(df[\"owner\"].value_counts())"
   ]
  },
  {
   "cell_type": "code",
   "execution_count": 63,
   "id": "b088af8a-05e6-48c5-9d8e-b86aa8370716",
   "metadata": {},
   "outputs": [
    {
     "name": "stdout",
     "output_type": "stream",
     "text": [
      "owner\n",
      "First Owner             5214\n",
      "Second Owner            2015\n",
      "Third Owner              509\n",
      "Fourth & Above Owner     160\n",
      "Name: count, dtype: int64\n"
     ]
    }
   ],
   "source": [
    "filter=df[\"owner\"].isin([\"Test Drive Car\"])#label encording\n",
    "i=df.index[filter]\n",
    "df=df.drop(i)\n",
    "print(df[\"owner\"].value_counts())"
   ]
  },
  {
   "cell_type": "code",
   "execution_count": 65,
   "id": "abd63d4c-4d28-430f-ace8-e5b69e889e61",
   "metadata": {},
   "outputs": [
    {
     "name": "stdout",
     "output_type": "stream",
     "text": [
      "transmission\n",
      "Manual       6861\n",
      "Automatic    1037\n",
      "Name: count, dtype: int64\n"
     ]
    }
   ],
   "source": [
    "print(df[\"transmission\"].value_counts())#lebal encording"
   ]
  },
  {
   "cell_type": "code",
   "execution_count": 67,
   "id": "270803a9-845d-4811-b7bf-2380847e690f",
   "metadata": {},
   "outputs": [
    {
     "name": "stdout",
     "output_type": "stream",
     "text": [
      "seller_type\n",
      "Individual          6560\n",
      "Dealer              1102\n",
      "Trustmark Dealer     236\n",
      "Name: count, dtype: int64\n"
     ]
    }
   ],
   "source": [
    "print(df[\"seller_type\"].value_counts())#label encording or encording "
   ]
  },
  {
   "cell_type": "code",
   "execution_count": 69,
   "id": "7627bdac-e581-4348-bdd8-8c88a277f413",
   "metadata": {},
   "outputs": [
    {
     "data": {
      "text/plain": [
       "<Axes: xlabel='selling_price', ylabel='seller_type'>"
      ]
     },
     "execution_count": 69,
     "metadata": {},
     "output_type": "execute_result"
    },
    {
     "data": {
      "image/png": "[encoded data removed]",
      "text/plain": [
       "<Figure size 640x480 with 1 Axes>"
      ]
     },
     "metadata": {},
     "output_type": "display_data"
    }
   ],
   "source": [
    "#violinpot\n",
    "import seaborn \n",
    "seaborn.violinplot(data=df,x=\"selling_price\",y=\"seller_type\")#to know which encording to apply onehotencording or label encording"
   ]
  },
  {
   "cell_type": "code",
   "execution_count": 71,
   "id": "db91ed99-9b8d-43c6-aa85-3bd1bcc440c0",
   "metadata": {},
   "outputs": [
    {
     "name": "stdout",
     "output_type": "stream",
     "text": [
      "fuel\n",
      "Diesel    4297\n",
      "Petrol    3514\n",
      "CNG         52\n",
      "LPG         35\n",
      "Name: count, dtype: int64\n"
     ]
    }
   ],
   "source": [
    "print(df[\"fuel\"].value_counts())#label encording or onehotencording"
   ]
  },
  {
   "cell_type": "code",
   "execution_count": 73,
   "id": "a6f001f3-aa9b-4cc8-9262-3e3ba87a599e",
   "metadata": {},
   "outputs": [
    {
     "data": {
      "text/plain": [
       "<Axes: xlabel='selling_price', ylabel='fuel'>"
      ]
     },
     "execution_count": 73,
     "metadata": {},
     "output_type": "execute_result"
    },
    {
     "data": {
      "image/png": "[encoded data removed]",
      "text/plain": [
       "<Figure size 640x480 with 1 Axes>"
      ]
     },
     "metadata": {},
     "output_type": "display_data"
    }
   ],
   "source": [
    "seaborn.violinplot(data=df,x=\"selling_price\",y=\"fuel\")#to know which encording to apply onehotencording or label encording"
   ]
  },
  {
   "cell_type": "code",
   "execution_count": 75,
   "id": "f915148a-02d3-4634-a7a3-1d7c6c0f1130",
   "metadata": {},
   "outputs": [
    {
     "name": "stdout",
     "output_type": "stream",
     "text": [
      "fuel\n",
      "Diesel    4297\n",
      "Petrol    3514\n",
      "ECO         87\n",
      "Name: count, dtype: int64\n"
     ]
    }
   ],
   "source": [
    "df[\"fuel\"]=df[\"fuel\"].replace({\"CNG\":\"ECO\",\"LPG\":\"ECO\"})\n",
    "print(df[\"fuel\"].value_counts())#label encording\n"
   ]
  },
  {
   "cell_type": "code",
   "execution_count": 77,
   "id": "c32769d8-2ec6-45e7-ba6b-e8225b6273ef",
   "metadata": {},
   "outputs": [
    {
     "name": "stdout",
     "output_type": "stream",
     "text": [
      "name\n",
      "Maruti Swift Dzire VDI                          129\n",
      "Maruti Alto 800 LXI                              82\n",
      "Maruti Alto LXi                                  71\n",
      "BMW X4 M Sport X xDrive20d                       62\n",
      "Maruti Swift VDI                                 61\n",
      "                                               ... \n",
      "Honda Jazz 1.2 S AT i VTEC                        1\n",
      "Hyundai i20 Active 1.2 SX with AVN                1\n",
      "Maruti Vitara Brezza ZDi Plus AMT                 1\n",
      "Ambassador CLASSIC 1500 DSL AC                    1\n",
      "Toyota Innova 2.5 GX (Diesel) 8 Seater BS IV      1\n",
      "Name: count, Length: 1979, dtype: int64\n"
     ]
    }
   ],
   "source": [
    "print(df[\"name\"].value_counts())"
   ]
  },
  {
   "cell_type": "code",
   "execution_count": 79,
   "id": "7ed56ae6-1af4-4186-a9ff-2a7a686ce2f8",
   "metadata": {},
   "outputs": [
    {
     "data": {
      "image/png": "[encoded data removed]",
      "text/plain": [
       "<Figure size 640x480 with 1 Axes>"
      ]
     },
     "metadata": {},
     "output_type": "display_data"
    }
   ],
   "source": [
    "import matplotlib.pyplot as plt \n",
    "plt.ticklabel_format(axis=\"x\",style=\"plain\")\n",
    "plt.ticklabel_format(axis=\"y\",style=\"plain\")\n",
    "plt.scatter(df[\"km_driven\"],df[\"selling_price\"])\n",
    "plt.xlabel(\"km\")\n",
    "plt.ylabel(\"selling_price\")\n",
    "plt.show()"
   ]
  },
  {
   "cell_type": "code",
   "execution_count": 81,
   "id": "302a65d9-801a-4702-8368-973f0e032a45",
   "metadata": {},
   "outputs": [
    {
     "name": "stdout",
     "output_type": "stream",
     "text": [
      "name\n",
      "Maruti Swift Dzire VDI                          129\n",
      "Maruti Alto 800 LXI                              82\n",
      "Maruti Alto LXi                                  71\n",
      "BMW X4 M Sport X xDrive20d                       62\n",
      "Maruti Swift VDI                                 61\n",
      "                                               ... \n",
      "Honda Jazz 1.2 S AT i VTEC                        1\n",
      "Hyundai i20 Active 1.2 SX with AVN                1\n",
      "Maruti Vitara Brezza ZDi Plus AMT                 1\n",
      "Ambassador CLASSIC 1500 DSL AC                    1\n",
      "Toyota Innova 2.5 GX (Diesel) 8 Seater BS IV      1\n",
      "Name: count, Length: 1979, dtype: int64\n"
     ]
    }
   ],
   "source": [
    "print(df[\"name\"].value_counts())"
   ]
  },
  {
   "cell_type": "code",
   "execution_count": 83,
   "id": "a0e0529c-1a8f-4e1a-ba8c-5c50ffd67a4a",
   "metadata": {},
   "outputs": [
    {
     "name": "stdout",
     "output_type": "stream",
     "text": [
      "name\n",
      "Maruti           2366\n",
      "Hyundai          1359\n",
      "Mahindra          758\n",
      "Tata              718\n",
      "Honda             465\n",
      "Toyota            452\n",
      "Ford              388\n",
      "Chevrolet         230\n",
      "Renault           228\n",
      "Volkswagen        184\n",
      "BMW               118\n",
      "Skoda             104\n",
      "Nissan             81\n",
      "Jaguar             71\n",
      "Volvo              67\n",
      "Datsun             65\n",
      "Mercedes-Benz      54\n",
      "Fiat               41\n",
      "Audi               37\n",
      "Lexus              34\n",
      "Jeep               31\n",
      "Mitsubishi         14\n",
      "Force               6\n",
      "Land                6\n",
      "Isuzu               5\n",
      "Kia                 4\n",
      "Ambassador          4\n",
      "Daewoo              3\n",
      "MG                  3\n",
      "Ashok               1\n",
      "Opel                1\n",
      "Name: count, dtype: int64\n"
     ]
    }
   ],
   "source": [
    "def abc(x):\n",
    "    b= x.split()[0]\n",
    "    m=x.split()[1]\n",
    "    return b\n",
    "df[\"name\"] = df[\"name\"].apply(abc)\n",
    "print(df[\"name\"].value_counts())"
   ]
  },
  {
   "cell_type": "code",
   "execution_count": 85,
   "id": "fe28b8ba-2ed1-4a18-b418-6f85235789d4",
   "metadata": {},
   "outputs": [
    {
     "data": {
      "text/plain": [
       "name\n",
       "Ambassador       124000.00\n",
       "Ashok            300000.00\n",
       "Audi            2319432.35\n",
       "BMW             4153813.56\n",
       "Chevrolet        273867.48\n",
       "Daewoo            77000.00\n",
       "Datsun           314599.95\n",
       "Fiat             317195.07\n",
       "Force            887500.00\n",
       "Ford             520873.67\n",
       "Honda            593903.51\n",
       "Hyundai          473511.00\n",
       "Isuzu           1942000.00\n",
       "Jaguar          2915464.79\n",
       "Jeep            2149612.87\n",
       "Kia             1504500.00\n",
       "Land            3608333.33\n",
       "Lexus           5150000.00\n",
       "MG              1783333.33\n",
       "Mahindra         630021.07\n",
       "Maruti           409091.03\n",
       "Mercedes-Benz   2470444.44\n",
       "Mitsubishi       817500.00\n",
       "Nissan           465407.36\n",
       "Opel              68000.00\n",
       "Renault          462618.38\n",
       "Skoda            609721.12\n",
       "Tata             361981.76\n",
       "Toyota          1011920.31\n",
       "Volkswagen       485217.38\n",
       "Volvo           3272014.93\n",
       "Name: selling_price, dtype: float64"
      ]
     },
     "execution_count": 85,
     "metadata": {},
     "output_type": "execute_result"
    }
   ],
   "source": [
    "pd.options.display.float_format=\"{:.2f}\".format\n",
    "l=df.groupby([\"name\"])\n",
    "mean=l[\"selling_price\"].mean()\n",
    "mean"
   ]
  },
  {
   "cell_type": "code",
   "execution_count": 87,
   "id": "5e0550db-714d-46f5-90af-f4b100e2f2ca",
   "metadata": {},
   "outputs": [
    {
     "data": {
      "text/plain": [
       "name\n",
       "Lexus           5150000.00\n",
       "BMW             4153813.56\n",
       "Land            3608333.33\n",
       "Volvo           3272014.93\n",
       "Jaguar          2915464.79\n",
       "Mercedes-Benz   2470444.44\n",
       "Audi            2319432.35\n",
       "Jeep            2149612.87\n",
       "Isuzu           1942000.00\n",
       "MG              1783333.33\n",
       "Kia             1504500.00\n",
       "Toyota          1011920.31\n",
       "Force            887500.00\n",
       "Mitsubishi       817500.00\n",
       "Mahindra         630021.07\n",
       "Skoda            609721.12\n",
       "Honda            593903.51\n",
       "Ford             520873.67\n",
       "Volkswagen       485217.38\n",
       "Hyundai          473511.00\n",
       "Nissan           465407.36\n",
       "Renault          462618.38\n",
       "Maruti           409091.03\n",
       "Tata             361981.76\n",
       "Fiat             317195.07\n",
       "Datsun           314599.95\n",
       "Ashok            300000.00\n",
       "Chevrolet        273867.48\n",
       "Ambassador       124000.00\n",
       "Daewoo            77000.00\n",
       "Opel              68000.00\n",
       "Name: selling_price, dtype: float64"
      ]
     },
     "execution_count": 87,
     "metadata": {},
     "output_type": "execute_result"
    }
   ],
   "source": [
    "m=mean.sort_values(ascending=False)\n",
    "m"
   ]
  },
  {
   "cell_type": "code",
   "execution_count": 89,
   "id": "bafe56af-5e10-427a-832c-a12427c84eac",
   "metadata": {},
   "outputs": [
    {
     "name": "stdout",
     "output_type": "stream",
     "text": [
      "name\n",
      "1    7467\n",
      "2     423\n",
      "0       8\n",
      "Name: count, dtype: int64\n"
     ]
    }
   ],
   "source": [
    "def xyz(x):\n",
    "    if x in m.index[0:9]:\n",
    "        return 2\n",
    "    elif x in m.index[9:28]:\n",
    "        return 1\n",
    "    else:\n",
    "        return 0\n",
    "df[\"name\"]=df[\"name\"].apply(xyz)\n",
    "print(df[\"name\"].value_counts())#"
   ]
  },
  {
   "cell_type": "markdown",
   "id": "32d9af2e-74a3-4ce5-b35f-a6206f57d1d3",
   "metadata": {},
   "source": [
    "FUTURE SELECTION"
   ]
  },
  {
   "cell_type": "code",
   "execution_count": 92,
   "id": "b0c82f6f-7b05-418a-b5ac-1476c3b2b279",
   "metadata": {},
   "outputs": [],
   "source": [
    "numaric=df[[\"selling_price\",\"km_driven\",\"year\",\"mileage\",\"engine\",\"max_power\"]]\n",
    "catagorical=df[[\"name\",\"fuel\",\"seller_type\",\"transmission\",\"owner\",\"seats\"]]"
   ]
  },
  {
   "cell_type": "code",
   "execution_count": 94,
   "id": "7ba63124-67c2-45cf-aa49-d8331e9ae7b4",
   "metadata": {},
   "outputs": [
    {
     "name": "stderr",
     "output_type": "stream",
     "text": [
      "C:\\Users\\rizwan\\AppData\\Local\\Temp\\ipykernel_16100\\3170624112.py:1: FutureWarning: Downcasting behavior in `replace` is deprecated and will be removed in a future version. To retain the old behavior, explicitly call `result.infer_objects(copy=False)`. To opt-in to the future behavior, set `pd.set_option('future.no_silent_downcasting', True)`\n",
      "  catagorical[\"fuel\"]=catagorical[\"fuel\"].replace({\"Petrol\":0,\"Diesel\":1,\"ECO\":2})\n",
      "C:\\Users\\rizwan\\AppData\\Local\\Temp\\ipykernel_16100\\3170624112.py:1: SettingWithCopyWarning: \n",
      "A value is trying to be set on a copy of a slice from a DataFrame.\n",
      "Try using .loc[row_indexer,col_indexer] = value instead\n",
      "\n",
      "See the caveats in the documentation: https://pandas.pydata.org/pandas-docs/stable/user_guide/indexing.html#returning-a-view-versus-a-copy\n",
      "  catagorical[\"fuel\"]=catagorical[\"fuel\"].replace({\"Petrol\":0,\"Diesel\":1,\"ECO\":2})\n",
      "C:\\Users\\rizwan\\AppData\\Local\\Temp\\ipykernel_16100\\3170624112.py:2: FutureWarning: Downcasting behavior in `replace` is deprecated and will be removed in a future version. To retain the old behavior, explicitly call `result.infer_objects(copy=False)`. To opt-in to the future behavior, set `pd.set_option('future.no_silent_downcasting', True)`\n",
      "  catagorical[\"seller_type\"]=catagorical[\"seller_type\"].replace({\"Individual\":0,\"Dealer\":1,\"Trustmark Dealer\":2})\n",
      "C:\\Users\\rizwan\\AppData\\Local\\Temp\\ipykernel_16100\\3170624112.py:2: SettingWithCopyWarning: \n",
      "A value is trying to be set on a copy of a slice from a DataFrame.\n",
      "Try using .loc[row_indexer,col_indexer] = value instead\n",
      "\n",
      "See the caveats in the documentation: https://pandas.pydata.org/pandas-docs/stable/user_guide/indexing.html#returning-a-view-versus-a-copy\n",
      "  catagorical[\"seller_type\"]=catagorical[\"seller_type\"].replace({\"Individual\":0,\"Dealer\":1,\"Trustmark Dealer\":2})\n",
      "C:\\Users\\rizwan\\AppData\\Local\\Temp\\ipykernel_16100\\3170624112.py:3: FutureWarning: Downcasting behavior in `replace` is deprecated and will be removed in a future version. To retain the old behavior, explicitly call `result.infer_objects(copy=False)`. To opt-in to the future behavior, set `pd.set_option('future.no_silent_downcasting', True)`\n",
      "  catagorical[\"transmission\"]=catagorical[\"transmission\"].replace({\"Manual\":0,\"Automatic\":1})\n",
      "C:\\Users\\rizwan\\AppData\\Local\\Temp\\ipykernel_16100\\3170624112.py:3: SettingWithCopyWarning: \n",
      "A value is trying to be set on a copy of a slice from a DataFrame.\n",
      "Try using .loc[row_indexer,col_indexer] = value instead\n",
      "\n",
      "See the caveats in the documentation: https://pandas.pydata.org/pandas-docs/stable/user_guide/indexing.html#returning-a-view-versus-a-copy\n",
      "  catagorical[\"transmission\"]=catagorical[\"transmission\"].replace({\"Manual\":0,\"Automatic\":1})\n",
      "C:\\Users\\rizwan\\AppData\\Local\\Temp\\ipykernel_16100\\3170624112.py:4: FutureWarning: Downcasting behavior in `replace` is deprecated and will be removed in a future version. To retain the old behavior, explicitly call `result.infer_objects(copy=False)`. To opt-in to the future behavior, set `pd.set_option('future.no_silent_downcasting', True)`\n",
      "  catagorical[\"owner\"]=catagorical[\"owner\"].replace({\"First Owner\":0,\"Second Owner\":1,\"Third Owner\":2,\"Fourth & Above Owner\":3})\n",
      "C:\\Users\\rizwan\\AppData\\Local\\Temp\\ipykernel_16100\\3170624112.py:4: SettingWithCopyWarning: \n",
      "A value is trying to be set on a copy of a slice from a DataFrame.\n",
      "Try using .loc[row_indexer,col_indexer] = value instead\n",
      "\n",
      "See the caveats in the documentation: https://pandas.pydata.org/pandas-docs/stable/user_guide/indexing.html#returning-a-view-versus-a-copy\n",
      "  catagorical[\"owner\"]=catagorical[\"owner\"].replace({\"First Owner\":0,\"Second Owner\":1,\"Third Owner\":2,\"Fourth & Above Owner\":3})\n"
     ]
    }
   ],
   "source": [
    "catagorical[\"fuel\"]=catagorical[\"fuel\"].replace({\"Petrol\":0,\"Diesel\":1,\"ECO\":2})\n",
    "catagorical[\"seller_type\"]=catagorical[\"seller_type\"].replace({\"Individual\":0,\"Dealer\":1,\"Trustmark Dealer\":2})\n",
    "catagorical[\"transmission\"]=catagorical[\"transmission\"].replace({\"Manual\":0,\"Automatic\":1})\n",
    "catagorical[\"owner\"]=catagorical[\"owner\"].replace({\"First Owner\":0,\"Second Owner\":1,\"Third Owner\":2,\"Fourth & Above Owner\":3})"
   ]
  },
  {
   "cell_type": "code",
   "execution_count": 96,
   "id": "6716a33f-a8b1-482c-9374-ac9c1c4a5248",
   "metadata": {},
   "outputs": [
    {
     "data": {
      "text/html": [
       "<div>\n",
       "<style scoped>\n",
       "    .dataframe tbody tr th:only-of-type {\n",
       "        vertical-align: middle;\n",
       "    }\n",
       "\n",
       "    .dataframe tbody tr th {\n",
       "        vertical-align: top;\n",
       "    }\n",
       "\n",
       "    .dataframe thead th {\n",
       "        text-align: right;\n",
       "    }\n",
       "</style>\n",
       "<table border=\"1\" class=\"dataframe\">\n",
       "  <thead>\n",
       "    <tr style=\"text-align: right;\">\n",
       "      <th></th>\n",
       "      <th>name</th>\n",
       "      <th>fuel</th>\n",
       "      <th>seller_type</th>\n",
       "      <th>transmission</th>\n",
       "      <th>owner</th>\n",
       "      <th>seats</th>\n",
       "    </tr>\n",
       "  </thead>\n",
       "  <tbody>\n",
       "    <tr>\n",
       "      <th>0</th>\n",
       "      <td>1</td>\n",
       "      <td>1</td>\n",
       "      <td>0</td>\n",
       "      <td>0</td>\n",
       "      <td>0</td>\n",
       "      <td>5.00</td>\n",
       "    </tr>\n",
       "    <tr>\n",
       "      <th>1</th>\n",
       "      <td>1</td>\n",
       "      <td>1</td>\n",
       "      <td>0</td>\n",
       "      <td>0</td>\n",
       "      <td>1</td>\n",
       "      <td>5.00</td>\n",
       "    </tr>\n",
       "    <tr>\n",
       "      <th>2</th>\n",
       "      <td>1</td>\n",
       "      <td>0</td>\n",
       "      <td>0</td>\n",
       "      <td>0</td>\n",
       "      <td>2</td>\n",
       "      <td>5.00</td>\n",
       "    </tr>\n",
       "    <tr>\n",
       "      <th>3</th>\n",
       "      <td>1</td>\n",
       "      <td>1</td>\n",
       "      <td>0</td>\n",
       "      <td>0</td>\n",
       "      <td>0</td>\n",
       "      <td>5.00</td>\n",
       "    </tr>\n",
       "    <tr>\n",
       "      <th>4</th>\n",
       "      <td>1</td>\n",
       "      <td>0</td>\n",
       "      <td>0</td>\n",
       "      <td>0</td>\n",
       "      <td>0</td>\n",
       "      <td>5.00</td>\n",
       "    </tr>\n",
       "    <tr>\n",
       "      <th>...</th>\n",
       "      <td>...</td>\n",
       "      <td>...</td>\n",
       "      <td>...</td>\n",
       "      <td>...</td>\n",
       "      <td>...</td>\n",
       "      <td>...</td>\n",
       "    </tr>\n",
       "    <tr>\n",
       "      <th>7898</th>\n",
       "      <td>1</td>\n",
       "      <td>0</td>\n",
       "      <td>0</td>\n",
       "      <td>0</td>\n",
       "      <td>0</td>\n",
       "      <td>5.00</td>\n",
       "    </tr>\n",
       "    <tr>\n",
       "      <th>7899</th>\n",
       "      <td>1</td>\n",
       "      <td>1</td>\n",
       "      <td>0</td>\n",
       "      <td>0</td>\n",
       "      <td>3</td>\n",
       "      <td>5.00</td>\n",
       "    </tr>\n",
       "    <tr>\n",
       "      <th>7900</th>\n",
       "      <td>1</td>\n",
       "      <td>1</td>\n",
       "      <td>0</td>\n",
       "      <td>0</td>\n",
       "      <td>0</td>\n",
       "      <td>5.00</td>\n",
       "    </tr>\n",
       "    <tr>\n",
       "      <th>7901</th>\n",
       "      <td>1</td>\n",
       "      <td>1</td>\n",
       "      <td>0</td>\n",
       "      <td>0</td>\n",
       "      <td>0</td>\n",
       "      <td>5.00</td>\n",
       "    </tr>\n",
       "    <tr>\n",
       "      <th>7902</th>\n",
       "      <td>1</td>\n",
       "      <td>1</td>\n",
       "      <td>0</td>\n",
       "      <td>0</td>\n",
       "      <td>0</td>\n",
       "      <td>5.00</td>\n",
       "    </tr>\n",
       "  </tbody>\n",
       "</table>\n",
       "<p>7898 rows × 6 columns</p>\n",
       "</div>"
      ],
      "text/plain": [
       "      name  fuel  seller_type  transmission  owner  seats\n",
       "0        1     1            0             0      0   5.00\n",
       "1        1     1            0             0      1   5.00\n",
       "2        1     0            0             0      2   5.00\n",
       "3        1     1            0             0      0   5.00\n",
       "4        1     0            0             0      0   5.00\n",
       "...    ...   ...          ...           ...    ...    ...\n",
       "7898     1     0            0             0      0   5.00\n",
       "7899     1     1            0             0      3   5.00\n",
       "7900     1     1            0             0      0   5.00\n",
       "7901     1     1            0             0      0   5.00\n",
       "7902     1     1            0             0      0   5.00\n",
       "\n",
       "[7898 rows x 6 columns]"
      ]
     },
     "execution_count": 96,
     "metadata": {},
     "output_type": "execute_result"
    }
   ],
   "source": [
    "catagorical"
   ]
  },
  {
   "cell_type": "code",
   "execution_count": 98,
   "id": "0e07552f-9359-4df0-8396-c09f584c5951",
   "metadata": {},
   "outputs": [
    {
     "name": "stdout",
     "output_type": "stream",
     "text": [
      "               selling_price  km_driven  year  mileage  engine  max_power\n",
      "selling_price           1.00      -0.22  0.41    -0.12    0.46       0.75\n",
      "km_driven              -0.22       1.00 -0.43    -0.17    0.21      -0.04\n",
      "year                    0.41      -0.43  1.00     0.33    0.02       0.23\n",
      "mileage                -0.12      -0.17  0.33     1.00   -0.58      -0.37\n",
      "engine                  0.46       0.21  0.02    -0.58    1.00       0.70\n",
      "max_power               0.75      -0.04  0.23    -0.37    0.70       1.00\n"
     ]
    }
   ],
   "source": [
    "#pearson corelation test we use this because dependant and independant are both numaric\n",
    "x=numaric.corr()\n",
    "print(x)"
   ]
  },
  {
   "cell_type": "code",
   "execution_count": 100,
   "id": "d618c258-7de5-40a3-b0e0-51db3474317a",
   "metadata": {},
   "outputs": [
    {
     "data": {
      "text/plain": [
       "<Axes: >"
      ]
     },
     "execution_count": 100,
     "metadata": {},
     "output_type": "execute_result"
    },
    {
     "data": {
      "image/png": "[encoded data removed]",
      "text/plain": [
       "<Figure size 640x480 with 2 Axes>"
      ]
     },
     "metadata": {},
     "output_type": "display_data"
    }
   ],
   "source": [
    "import seaborn\n",
    "seaborn.heatmap(x)\n"
   ]
  },
  {
   "cell_type": "code",
   "execution_count": 102,
   "id": "632ac84c-c6c7-40d5-9d85-5161ad7765f1",
   "metadata": {},
   "outputs": [
    {
     "data": {
      "image/png": "[encoded data removed]",
      "text/plain": [
       "<Figure size 640x480 with 1 Axes>"
      ]
     },
     "metadata": {},
     "output_type": "display_data"
    }
   ],
   "source": [
    "import matplotlib.pyplot as plt \n",
    "plt.hist(df[\"max_power\"])\n",
    "plt.show()"
   ]
  },
  {
   "cell_type": "code",
   "execution_count": 104,
   "id": "184cb16b-d49f-458d-a91e-092c7a62d8fe",
   "metadata": {},
   "outputs": [
    {
     "name": "stdout",
     "output_type": "stream",
     "text": [
      "1.6427088821734226\n"
     ]
    }
   ],
   "source": [
    "print(df[\"max_power\"].skew())# if value is positive then it is positive skwe and if it is negative skew\n"
   ]
  },
  {
   "cell_type": "code",
   "execution_count": 106,
   "id": "c1d9a7e4-4fb3-470f-a4c1-3d13c5d0fbf9",
   "metadata": {},
   "outputs": [
    {
     "name": "stdout",
     "output_type": "stream",
     "text": [
      "[0 2 3]\n",
      "Index(['name', 'fuel', 'seller_type', 'transmission', 'owner', 'seats'], dtype='object')\n",
      "[45.23204953  3.11360009  6.75369343 12.03066124  3.72407978  2.6637526 ]\n"
     ]
    }
   ],
   "source": [
    "#ANOVA----------> analysis of virance\n",
    "from sklearn.feature_selection import f_classif,SelectKBest\n",
    "select=SelectKBest(f_classif,k=3)\n",
    "column=select.fit_transform(catagorical,numaric[\"selling_price\"])\n",
    "selected=select.get_support(indices=True)\n",
    "print(selected)\n",
    "print(catagorical.columns)\n",
    "print(select.scores_)"
   ]
  },
  {
   "cell_type": "code",
   "execution_count": 107,
   "id": "80486de2-f0ec-401b-b365-aeef07a841b4",
   "metadata": {},
   "outputs": [
    {
     "name": "stdout",
     "output_type": "stream",
     "text": [
      "name               int64\n",
      "year               int64\n",
      "selling_price      int64\n",
      "km_driven          int64\n",
      "fuel              object\n",
      "seller_type       object\n",
      "transmission      object\n",
      "owner             object\n",
      "mileage          float64\n",
      "engine           float64\n",
      "max_power        float64\n",
      "seats            float64\n",
      "dtype: object\n"
     ]
    }
   ],
   "source": [
    "print(df.dtypes)"
   ]
  },
  {
   "cell_type": "code",
   "execution_count": 110,
   "id": "089c9fbb-d5eb-4912-8aea-9a5295f7d8e5",
   "metadata": {},
   "outputs": [
    {
     "name": "stdout",
     "output_type": "stream",
     "text": [
      "<bound method Series.mean of 0      23.40\n",
      "1      21.14\n",
      "2      17.70\n",
      "3      23.00\n",
      "4      16.10\n",
      "        ... \n",
      "7898   18.50\n",
      "7899   16.80\n",
      "7900   19.30\n",
      "7901   23.57\n",
      "7902   23.57\n",
      "Name: mileage, Length: 7898, dtype: float64>\n",
      "4.03678777217112\n"
     ]
    }
   ],
   "source": [
    "#print(df.std(\"mileage\"))\n",
    "x=numaric[\"mileage\"].mean\n",
    "y=numaric[\"mileage\"].std()\n",
    "print(x)\n",
    "print(y)\n"
   ]
  },
  {
   "cell_type": "code",
   "execution_count": 112,
   "id": "27fcea33-52f4-4b91-928b-ba67af5ddaf5",
   "metadata": {},
   "outputs": [
    {
     "data": {
      "image/png": "[encoded data removed]",
      "text/plain": [
       "<Figure size 640x480 with 1 Axes>"
      ]
     },
     "metadata": {},
     "output_type": "display_data"
    },
    {
     "data": {
      "image/png": "[encoded data removed]",
      "text/plain": [
       "<Figure size 640x480 with 1 Axes>"
      ]
     },
     "metadata": {},
     "output_type": "display_data"
    },
    {
     "data": {
      "image/png": "[encoded data removed]",
      "text/plain": [
       "<Figure size 640x480 with 1 Axes>"
      ]
     },
     "metadata": {},
     "output_type": "display_data"
    },
    {
     "data": {
      "image/png": "[encoded data removed]",
      "text/plain": [
       "<Figure size 640x480 with 1 Axes>"
      ]
     },
     "metadata": {},
     "output_type": "display_data"
    },
    {
     "data": {
      "image/png": "[encoded data removed]",
      "text/plain": [
       "<Figure size 640x480 with 1 Axes>"
      ]
     },
     "metadata": {},
     "output_type": "display_data"
    },
    {
     "data": {
      "image/png": "[encoded data removed]",
      "text/plain": [
       "<Figure size 640x480 with 1 Axes>"
      ]
     },
     "metadata": {},
     "output_type": "display_data"
    }
   ],
   "source": [
    "#making bell shaped \n",
    "import matplotlib.pyplot as plt \n",
    "for i in numaric.columns:\n",
    "    plt.hist(numaric[i])\n",
    "    plt.title(i)\n",
    "    plt.show()#all they are are normulla distributed except year and "
   ]
  },
  {
   "cell_type": "code",
   "execution_count": 113,
   "id": "8ee1a485-46c0-47c5-819b-8c6cb1aa21dd",
   "metadata": {},
   "outputs": [
    {
     "name": "stdout",
     "output_type": "stream",
     "text": [
      "Series([], Name: mileage, dtype: float64)\n",
      "Series([], Name: km_driven, dtype: int64)\n",
      "Series([], Name: max_power, dtype: float64)\n"
     ]
    }
   ],
   "source": [
    "#DATE----> 07/04/2025\n",
    "def out_liears(column):\n",
    "   mean=column.mean()\n",
    "   std=column.std()\n",
    "   z_score=(column/mean)/std\n",
    "   return column[(z_score>3) | (z_score<-3)]  \n",
    "print(out_liears(numaric[\"mileage\"]))\n",
    "print(out_liears(numaric[\"km_driven\"]))\n",
    "print(out_liears(numaric[\"max_power\"]))"
   ]
  },
  {
   "cell_type": "code",
   "execution_count": 116,
   "id": "a6f1926b-fd4e-4b5e-803b-b64247363772",
   "metadata": {},
   "outputs": [],
   "source": [
    "#dbscane\n",
    "#note when ever in any algorethum there is distance calulation then it is bast \n",
    "#minmax scaling\n",
    "data=numaric[[\"engine\",\"selling_price\"]]\n",
    "from sklearn.preprocessing import MinMaxScaler\n",
    "scaler=MinMaxScaler()\n",
    "data=scaler.fit_transform(data)"
   ]
  },
  {
   "cell_type": "code",
   "execution_count": 118,
   "id": "def45d7b-2d5e-415d-8d97-be1994a6318f",
   "metadata": {},
   "outputs": [
    {
     "name": "stdout",
     "output_type": "stream",
     "text": [
      "[0 0 0 ... 0 0 0]\n",
      "[-1  0  1  2  3  4  5]\n",
      "(array([-1,  0,  1,  2,  3,  4,  5], dtype=int64), array([  15, 6205, 1554,   34,   10,   68,   12], dtype=int64))\n"
     ]
    }
   ],
   "source": [
    "from sklearn.cluster import DBSCAN\n",
    "import numpy as np\n",
    "dbscan=DBSCAN(eps=0.06,min_samples=10)#eps=radius and min_simple = boarders how many points are in it is up to us how much\n",
    "dbscan.fit(data)\n",
    "labels=dbscan.labels_\n",
    "print(labels)\n",
    "print(np.unique(labels))\n",
    "print(np.unique(labels,return_counts=True))"
   ]
  },
  {
   "cell_type": "code",
   "execution_count": 120,
   "id": "fd2a6c29-0348-46e2-8120-ff97a9b50d81",
   "metadata": {},
   "outputs": [
    {
     "name": "stdout",
     "output_type": "stream",
     "text": [
      "[[0.         0.         0.         ... 0.         0.         0.        ]\n",
      " [0.         0.0002006  0.0005015  ... 0.00105766 0.00105766 0.00120684]\n",
      " [0.         0.0002006  0.0002006  ... 0.00080241 0.00080241 0.00080241]\n",
      " ...\n",
      " [0.         0.0002006  0.0002006  ... 0.0002006  0.0002006  0.0002006 ]\n",
      " [0.         0.         0.         ... 0.00100301 0.00100301 0.00100301]\n",
      " [0.         0.         0.         ... 0.00100301 0.00100301 0.00100301]]\n",
      "[[ 620 3383 3095 ... 1265 1237   74]\n",
      " [   1 6661 1924 ... 7212 5744 6716]\n",
      " [   2 6360 7874 ... 7589 4778  778]\n",
      " ...\n",
      " [7895 2142 2946 ... 7611 2114 5530]\n",
      " [5426 5089 7897 ... 6489 2539 1774]\n",
      " [5426 5089 7897 ... 6489 2539 1774]]\n"
     ]
    }
   ],
   "source": [
    "#how to decide eps?\n",
    "from sklearn.neighbors import NearestNeighbors\n",
    "nn=NearestNeighbors(n_neighbors=10)\n",
    "nn.fit(data)\n",
    "d,i=nn.kneighbors(data)#d is distance and i is index numbers\n",
    "print(d)\n",
    "print(i)# for know the eps values"
   ]
  },
  {
   "cell_type": "code",
   "execution_count": 122,
   "id": "7f1aca84-8298-4080-a70e-fb3a4086851f",
   "metadata": {},
   "outputs": [
    {
     "data": {
      "image/png": "[encoded data removed]",
      "text/plain": [
       "<Figure size 640x480 with 1 Axes>"
      ]
     },
     "metadata": {},
     "output_type": "display_data"
    }
   ],
   "source": [
    "import numpy as np\n",
    "d=d[:,1]\n",
    "d=np.sort(d,axis=0)\n",
    "plt.plot(d)\n",
    "plt.title(\"k distance\")\n",
    "plt.show()"
   ]
  },
  {
   "cell_type": "code",
   "execution_count": 124,
   "id": "09a5eee9-cc26-40eb-b288-99b87048162a",
   "metadata": {},
   "outputs": [
    {
     "data": {
      "text/plain": [
       "(7898, 6)"
      ]
     },
     "execution_count": 124,
     "metadata": {},
     "output_type": "execute_result"
    }
   ],
   "source": [
    "numaric.shape"
   ]
  },
  {
   "cell_type": "code",
   "execution_count": 126,
   "id": "4f471f87-1141-4ff8-acc2-136cdc09ad1a",
   "metadata": {},
   "outputs": [
    {
     "data": {
      "text/plain": [
       "(7883, 6)"
      ]
     },
     "execution_count": 126,
     "metadata": {},
     "output_type": "execute_result"
    }
   ],
   "source": [
    "#removel outlier\n",
    "f=labels!=-1\n",
    "numeric=numaric[f]\n",
    "numeric.shape"
   ]
  },
  {
   "cell_type": "code",
   "execution_count": 128,
   "id": "7125846e-4436-4023-bad7-d49d4c3f7810",
   "metadata": {},
   "outputs": [
    {
     "data": {
      "text/plain": [
       "(7883, 6)"
      ]
     },
     "execution_count": 128,
     "metadata": {},
     "output_type": "execute_result"
    }
   ],
   "source": [
    "f=labels!=-1\n",
    "catagorical=catagorical[f]\n",
    "catagorical.shape"
   ]
  },
  {
   "cell_type": "code",
   "execution_count": 130,
   "id": "d195e09d-ec3d-46cf-afdd-deaa4ab19aa3",
   "metadata": {},
   "outputs": [
    {
     "name": "stdout",
     "output_type": "stream",
     "text": [
      "Series([], Name: max_power, dtype: float64)\n"
     ]
    }
   ],
   "source": [
    "def out_liears(column):\n",
    "   mean=column.mean()\n",
    "   std=column.std()\n",
    "   z_score=(column/mean)/std\n",
    "   return column[(z_score>3) | (z_score<-3)]   \n",
    "print(out_liears(numaric[\"max_power\"]))"
   ]
  },
  {
   "cell_type": "code",
   "execution_count": 132,
   "id": "04806b93-5b3e-4d6a-b792-5a93f754cb2c",
   "metadata": {},
   "outputs": [
    {
     "name": "stdout",
     "output_type": "stream",
     "text": [
      "(7883, 6)\n",
      "(7883, 6)\n"
     ]
    }
   ],
   "source": [
    "outlier=out_liears(numeric[\"km_driven\"])\n",
    "f=numeric[\"km_driven\"].isin(outlier)\n",
    "numeric=numeric[~f]\n",
    "categroy=catagorical[~f]\n",
    "print(numeric.shape)\n",
    "print(categroy.shape)"
   ]
  },
  {
   "cell_type": "code",
   "execution_count": 134,
   "id": "8be60d4a-911a-4e2d-b87b-926f9f438de4",
   "metadata": {},
   "outputs": [
    {
     "name": "stdout",
     "output_type": "stream",
     "text": [
      "(7883, 6)\n",
      "(7883, 6)\n"
     ]
    }
   ],
   "source": [
    "outlier=out_liears(numeric[\"mileage\"])\n",
    "f=numeric[\"mileage\"].isin(outlier)\n",
    "numeric=numeric[~f]\n",
    "categroy=catagorical[~f]\n",
    "print(numeric.shape)\n",
    "print(categroy.shape)"
   ]
  },
  {
   "cell_type": "code",
   "execution_count": 136,
   "id": "8180a832-1d8f-4d4c-af1c-4832eb71a56c",
   "metadata": {},
   "outputs": [
    {
     "name": "stdout",
     "output_type": "stream",
     "text": [
      "(7883, 6)\n",
      "(7883, 6)\n"
     ]
    }
   ],
   "source": [
    "outlier=out_liears(numeric[\"max_power\"])\n",
    "f=numeric[\"max_power\"].isin(outlier)\n",
    "numeric=numeric[~f]\n",
    "categroy=catagorical[~f]\n",
    "print(numeric.shape)\n",
    "print(categroy.shape)"
   ]
  },
  {
   "cell_type": "code",
   "execution_count": 138,
   "id": "4aa05a7b-ef0e-44cf-b456-6d2337c29888",
   "metadata": {},
   "outputs": [
    {
     "data": {
      "text/html": [
       "<div>\n",
       "<style scoped>\n",
       "    .dataframe tbody tr th:only-of-type {\n",
       "        vertical-align: middle;\n",
       "    }\n",
       "\n",
       "    .dataframe tbody tr th {\n",
       "        vertical-align: top;\n",
       "    }\n",
       "\n",
       "    .dataframe thead th {\n",
       "        text-align: right;\n",
       "    }\n",
       "</style>\n",
       "<table border=\"1\" class=\"dataframe\">\n",
       "  <thead>\n",
       "    <tr style=\"text-align: right;\">\n",
       "      <th></th>\n",
       "      <th>selling_price</th>\n",
       "      <th>km_driven</th>\n",
       "      <th>year</th>\n",
       "      <th>mileage</th>\n",
       "      <th>engine</th>\n",
       "      <th>max_power</th>\n",
       "      <th>name</th>\n",
       "      <th>fuel</th>\n",
       "      <th>seller_type</th>\n",
       "      <th>transmission</th>\n",
       "      <th>owner</th>\n",
       "      <th>seats</th>\n",
       "    </tr>\n",
       "  </thead>\n",
       "  <tbody>\n",
       "    <tr>\n",
       "      <th>0</th>\n",
       "      <td>450000</td>\n",
       "      <td>145500</td>\n",
       "      <td>2014</td>\n",
       "      <td>23.40</td>\n",
       "      <td>1248.00</td>\n",
       "      <td>74.00</td>\n",
       "      <td>1</td>\n",
       "      <td>1</td>\n",
       "      <td>0</td>\n",
       "      <td>0</td>\n",
       "      <td>0</td>\n",
       "      <td>5.00</td>\n",
       "    </tr>\n",
       "    <tr>\n",
       "      <th>1</th>\n",
       "      <td>370000</td>\n",
       "      <td>120000</td>\n",
       "      <td>2014</td>\n",
       "      <td>21.14</td>\n",
       "      <td>1498.00</td>\n",
       "      <td>103.52</td>\n",
       "      <td>1</td>\n",
       "      <td>1</td>\n",
       "      <td>0</td>\n",
       "      <td>0</td>\n",
       "      <td>1</td>\n",
       "      <td>5.00</td>\n",
       "    </tr>\n",
       "    <tr>\n",
       "      <th>2</th>\n",
       "      <td>158000</td>\n",
       "      <td>140000</td>\n",
       "      <td>2006</td>\n",
       "      <td>17.70</td>\n",
       "      <td>1497.00</td>\n",
       "      <td>78.00</td>\n",
       "      <td>1</td>\n",
       "      <td>0</td>\n",
       "      <td>0</td>\n",
       "      <td>0</td>\n",
       "      <td>2</td>\n",
       "      <td>5.00</td>\n",
       "    </tr>\n",
       "    <tr>\n",
       "      <th>3</th>\n",
       "      <td>225000</td>\n",
       "      <td>127000</td>\n",
       "      <td>2010</td>\n",
       "      <td>23.00</td>\n",
       "      <td>1396.00</td>\n",
       "      <td>90.00</td>\n",
       "      <td>1</td>\n",
       "      <td>1</td>\n",
       "      <td>0</td>\n",
       "      <td>0</td>\n",
       "      <td>0</td>\n",
       "      <td>5.00</td>\n",
       "    </tr>\n",
       "    <tr>\n",
       "      <th>4</th>\n",
       "      <td>130000</td>\n",
       "      <td>120000</td>\n",
       "      <td>2007</td>\n",
       "      <td>16.10</td>\n",
       "      <td>1298.00</td>\n",
       "      <td>88.20</td>\n",
       "      <td>1</td>\n",
       "      <td>0</td>\n",
       "      <td>0</td>\n",
       "      <td>0</td>\n",
       "      <td>0</td>\n",
       "      <td>5.00</td>\n",
       "    </tr>\n",
       "    <tr>\n",
       "      <th>...</th>\n",
       "      <td>...</td>\n",
       "      <td>...</td>\n",
       "      <td>...</td>\n",
       "      <td>...</td>\n",
       "      <td>...</td>\n",
       "      <td>...</td>\n",
       "      <td>...</td>\n",
       "      <td>...</td>\n",
       "      <td>...</td>\n",
       "      <td>...</td>\n",
       "      <td>...</td>\n",
       "      <td>...</td>\n",
       "    </tr>\n",
       "    <tr>\n",
       "      <th>7898</th>\n",
       "      <td>320000</td>\n",
       "      <td>110000</td>\n",
       "      <td>2013</td>\n",
       "      <td>18.50</td>\n",
       "      <td>1197.00</td>\n",
       "      <td>82.85</td>\n",
       "      <td>1</td>\n",
       "      <td>0</td>\n",
       "      <td>0</td>\n",
       "      <td>0</td>\n",
       "      <td>0</td>\n",
       "      <td>5.00</td>\n",
       "    </tr>\n",
       "    <tr>\n",
       "      <th>7899</th>\n",
       "      <td>135000</td>\n",
       "      <td>119000</td>\n",
       "      <td>2007</td>\n",
       "      <td>16.80</td>\n",
       "      <td>1493.00</td>\n",
       "      <td>110.00</td>\n",
       "      <td>1</td>\n",
       "      <td>1</td>\n",
       "      <td>0</td>\n",
       "      <td>0</td>\n",
       "      <td>3</td>\n",
       "      <td>5.00</td>\n",
       "    </tr>\n",
       "    <tr>\n",
       "      <th>7900</th>\n",
       "      <td>382000</td>\n",
       "      <td>120000</td>\n",
       "      <td>2009</td>\n",
       "      <td>19.30</td>\n",
       "      <td>1248.00</td>\n",
       "      <td>73.90</td>\n",
       "      <td>1</td>\n",
       "      <td>1</td>\n",
       "      <td>0</td>\n",
       "      <td>0</td>\n",
       "      <td>0</td>\n",
       "      <td>5.00</td>\n",
       "    </tr>\n",
       "    <tr>\n",
       "      <th>7901</th>\n",
       "      <td>290000</td>\n",
       "      <td>25000</td>\n",
       "      <td>2013</td>\n",
       "      <td>23.57</td>\n",
       "      <td>1396.00</td>\n",
       "      <td>70.00</td>\n",
       "      <td>1</td>\n",
       "      <td>1</td>\n",
       "      <td>0</td>\n",
       "      <td>0</td>\n",
       "      <td>0</td>\n",
       "      <td>5.00</td>\n",
       "    </tr>\n",
       "    <tr>\n",
       "      <th>7902</th>\n",
       "      <td>290000</td>\n",
       "      <td>25000</td>\n",
       "      <td>2013</td>\n",
       "      <td>23.57</td>\n",
       "      <td>1396.00</td>\n",
       "      <td>70.00</td>\n",
       "      <td>1</td>\n",
       "      <td>1</td>\n",
       "      <td>0</td>\n",
       "      <td>0</td>\n",
       "      <td>0</td>\n",
       "      <td>5.00</td>\n",
       "    </tr>\n",
       "  </tbody>\n",
       "</table>\n",
       "<p>7883 rows × 12 columns</p>\n",
       "</div>"
      ],
      "text/plain": [
       "      selling_price  km_driven  year  mileage  engine  max_power  name  fuel  \\\n",
       "0            450000     145500  2014    23.40 1248.00      74.00     1     1   \n",
       "1            370000     120000  2014    21.14 1498.00     103.52     1     1   \n",
       "2            158000     140000  2006    17.70 1497.00      78.00     1     0   \n",
       "3            225000     127000  2010    23.00 1396.00      90.00     1     1   \n",
       "4            130000     120000  2007    16.10 1298.00      88.20     1     0   \n",
       "...             ...        ...   ...      ...     ...        ...   ...   ...   \n",
       "7898         320000     110000  2013    18.50 1197.00      82.85     1     0   \n",
       "7899         135000     119000  2007    16.80 1493.00     110.00     1     1   \n",
       "7900         382000     120000  2009    19.30 1248.00      73.90     1     1   \n",
       "7901         290000      25000  2013    23.57 1396.00      70.00     1     1   \n",
       "7902         290000      25000  2013    23.57 1396.00      70.00     1     1   \n",
       "\n",
       "      seller_type  transmission  owner  seats  \n",
       "0               0             0      0   5.00  \n",
       "1               0             0      1   5.00  \n",
       "2               0             0      2   5.00  \n",
       "3               0             0      0   5.00  \n",
       "4               0             0      0   5.00  \n",
       "...           ...           ...    ...    ...  \n",
       "7898            0             0      0   5.00  \n",
       "7899            0             0      3   5.00  \n",
       "7900            0             0      0   5.00  \n",
       "7901            0             0      0   5.00  \n",
       "7902            0             0      0   5.00  \n",
       "\n",
       "[7883 rows x 12 columns]"
      ]
     },
     "execution_count": 138,
     "metadata": {},
     "output_type": "execute_result"
    }
   ],
   "source": [
    "final_df=pd.concat((numeric,categroy),axis=1)\n",
    "final_df"
   ]
  },
  {
   "cell_type": "code",
   "execution_count": 140,
   "id": "afc9e1fd-2393-4db3-a461-411fb200b702",
   "metadata": {},
   "outputs": [
    {
     "data": {
      "text/html": [
       "<div>\n",
       "<style scoped>\n",
       "    .dataframe tbody tr th:only-of-type {\n",
       "        vertical-align: middle;\n",
       "    }\n",
       "\n",
       "    .dataframe tbody tr th {\n",
       "        vertical-align: top;\n",
       "    }\n",
       "\n",
       "    .dataframe thead th {\n",
       "        text-align: right;\n",
       "    }\n",
       "</style>\n",
       "<table border=\"1\" class=\"dataframe\">\n",
       "  <thead>\n",
       "    <tr style=\"text-align: right;\">\n",
       "      <th></th>\n",
       "      <th>km_driven</th>\n",
       "      <th>year</th>\n",
       "      <th>mileage</th>\n",
       "      <th>engine</th>\n",
       "      <th>max_power</th>\n",
       "      <th>name</th>\n",
       "      <th>fuel</th>\n",
       "      <th>seller_type</th>\n",
       "      <th>transmission</th>\n",
       "      <th>owner</th>\n",
       "      <th>seats</th>\n",
       "    </tr>\n",
       "  </thead>\n",
       "  <tbody>\n",
       "    <tr>\n",
       "      <th>0</th>\n",
       "      <td>145500</td>\n",
       "      <td>2014</td>\n",
       "      <td>23.40</td>\n",
       "      <td>1248.00</td>\n",
       "      <td>74.00</td>\n",
       "      <td>1</td>\n",
       "      <td>1</td>\n",
       "      <td>0</td>\n",
       "      <td>0</td>\n",
       "      <td>0</td>\n",
       "      <td>5.00</td>\n",
       "    </tr>\n",
       "    <tr>\n",
       "      <th>1</th>\n",
       "      <td>120000</td>\n",
       "      <td>2014</td>\n",
       "      <td>21.14</td>\n",
       "      <td>1498.00</td>\n",
       "      <td>103.52</td>\n",
       "      <td>1</td>\n",
       "      <td>1</td>\n",
       "      <td>0</td>\n",
       "      <td>0</td>\n",
       "      <td>1</td>\n",
       "      <td>5.00</td>\n",
       "    </tr>\n",
       "    <tr>\n",
       "      <th>2</th>\n",
       "      <td>140000</td>\n",
       "      <td>2006</td>\n",
       "      <td>17.70</td>\n",
       "      <td>1497.00</td>\n",
       "      <td>78.00</td>\n",
       "      <td>1</td>\n",
       "      <td>0</td>\n",
       "      <td>0</td>\n",
       "      <td>0</td>\n",
       "      <td>2</td>\n",
       "      <td>5.00</td>\n",
       "    </tr>\n",
       "    <tr>\n",
       "      <th>3</th>\n",
       "      <td>127000</td>\n",
       "      <td>2010</td>\n",
       "      <td>23.00</td>\n",
       "      <td>1396.00</td>\n",
       "      <td>90.00</td>\n",
       "      <td>1</td>\n",
       "      <td>1</td>\n",
       "      <td>0</td>\n",
       "      <td>0</td>\n",
       "      <td>0</td>\n",
       "      <td>5.00</td>\n",
       "    </tr>\n",
       "    <tr>\n",
       "      <th>4</th>\n",
       "      <td>120000</td>\n",
       "      <td>2007</td>\n",
       "      <td>16.10</td>\n",
       "      <td>1298.00</td>\n",
       "      <td>88.20</td>\n",
       "      <td>1</td>\n",
       "      <td>0</td>\n",
       "      <td>0</td>\n",
       "      <td>0</td>\n",
       "      <td>0</td>\n",
       "      <td>5.00</td>\n",
       "    </tr>\n",
       "    <tr>\n",
       "      <th>...</th>\n",
       "      <td>...</td>\n",
       "      <td>...</td>\n",
       "      <td>...</td>\n",
       "      <td>...</td>\n",
       "      <td>...</td>\n",
       "      <td>...</td>\n",
       "      <td>...</td>\n",
       "      <td>...</td>\n",
       "      <td>...</td>\n",
       "      <td>...</td>\n",
       "      <td>...</td>\n",
       "    </tr>\n",
       "    <tr>\n",
       "      <th>7898</th>\n",
       "      <td>110000</td>\n",
       "      <td>2013</td>\n",
       "      <td>18.50</td>\n",
       "      <td>1197.00</td>\n",
       "      <td>82.85</td>\n",
       "      <td>1</td>\n",
       "      <td>0</td>\n",
       "      <td>0</td>\n",
       "      <td>0</td>\n",
       "      <td>0</td>\n",
       "      <td>5.00</td>\n",
       "    </tr>\n",
       "    <tr>\n",
       "      <th>7899</th>\n",
       "      <td>119000</td>\n",
       "      <td>2007</td>\n",
       "      <td>16.80</td>\n",
       "      <td>1493.00</td>\n",
       "      <td>110.00</td>\n",
       "      <td>1</td>\n",
       "      <td>1</td>\n",
       "      <td>0</td>\n",
       "      <td>0</td>\n",
       "      <td>3</td>\n",
       "      <td>5.00</td>\n",
       "    </tr>\n",
       "    <tr>\n",
       "      <th>7900</th>\n",
       "      <td>120000</td>\n",
       "      <td>2009</td>\n",
       "      <td>19.30</td>\n",
       "      <td>1248.00</td>\n",
       "      <td>73.90</td>\n",
       "      <td>1</td>\n",
       "      <td>1</td>\n",
       "      <td>0</td>\n",
       "      <td>0</td>\n",
       "      <td>0</td>\n",
       "      <td>5.00</td>\n",
       "    </tr>\n",
       "    <tr>\n",
       "      <th>7901</th>\n",
       "      <td>25000</td>\n",
       "      <td>2013</td>\n",
       "      <td>23.57</td>\n",
       "      <td>1396.00</td>\n",
       "      <td>70.00</td>\n",
       "      <td>1</td>\n",
       "      <td>1</td>\n",
       "      <td>0</td>\n",
       "      <td>0</td>\n",
       "      <td>0</td>\n",
       "      <td>5.00</td>\n",
       "    </tr>\n",
       "    <tr>\n",
       "      <th>7902</th>\n",
       "      <td>25000</td>\n",
       "      <td>2013</td>\n",
       "      <td>23.57</td>\n",
       "      <td>1396.00</td>\n",
       "      <td>70.00</td>\n",
       "      <td>1</td>\n",
       "      <td>1</td>\n",
       "      <td>0</td>\n",
       "      <td>0</td>\n",
       "      <td>0</td>\n",
       "      <td>5.00</td>\n",
       "    </tr>\n",
       "  </tbody>\n",
       "</table>\n",
       "<p>7883 rows × 11 columns</p>\n",
       "</div>"
      ],
      "text/plain": [
       "      km_driven  year  mileage  engine  max_power  name  fuel  seller_type  \\\n",
       "0        145500  2014    23.40 1248.00      74.00     1     1            0   \n",
       "1        120000  2014    21.14 1498.00     103.52     1     1            0   \n",
       "2        140000  2006    17.70 1497.00      78.00     1     0            0   \n",
       "3        127000  2010    23.00 1396.00      90.00     1     1            0   \n",
       "4        120000  2007    16.10 1298.00      88.20     1     0            0   \n",
       "...         ...   ...      ...     ...        ...   ...   ...          ...   \n",
       "7898     110000  2013    18.50 1197.00      82.85     1     0            0   \n",
       "7899     119000  2007    16.80 1493.00     110.00     1     1            0   \n",
       "7900     120000  2009    19.30 1248.00      73.90     1     1            0   \n",
       "7901      25000  2013    23.57 1396.00      70.00     1     1            0   \n",
       "7902      25000  2013    23.57 1396.00      70.00     1     1            0   \n",
       "\n",
       "      transmission  owner  seats  \n",
       "0                0      0   5.00  \n",
       "1                0      1   5.00  \n",
       "2                0      2   5.00  \n",
       "3                0      0   5.00  \n",
       "4                0      0   5.00  \n",
       "...            ...    ...    ...  \n",
       "7898             0      0   5.00  \n",
       "7899             0      3   5.00  \n",
       "7900             0      0   5.00  \n",
       "7901             0      0   5.00  \n",
       "7902             0      0   5.00  \n",
       "\n",
       "[7883 rows x 11 columns]"
      ]
     },
     "execution_count": 140,
     "metadata": {},
     "output_type": "execute_result"
    }
   ],
   "source": [
    "x=final_df.drop(columns=[\"selling_price\"])\n",
    "y=final_df[\"selling_price\"]\n",
    "x"
   ]
  },
  {
   "cell_type": "code",
   "execution_count": 142,
   "id": "ee3ed6f7-a92e-4e58-b044-b8c8e193b9e0",
   "metadata": {},
   "outputs": [
    {
     "data": {
      "text/plain": [
       "array([[ 1.34436892,  0.00594351,  0.98765866, ..., -0.38595062,\n",
       "        -0.631168  , -0.43351042],\n",
       "       [ 0.89480538,  0.00594351,  0.4247326 , ..., -0.38595062,\n",
       "         0.78635261, -0.43351042],\n",
       "       [ 1.24740423, -2.06489203, -0.4321106 , ..., -0.38595062,\n",
       "         2.20387323, -0.43351042],\n",
       "       ...,\n",
       "       [ 0.89480538, -1.28832871, -0.03357888, ..., -0.38595062,\n",
       "        -0.631168  , -0.43351042],\n",
       "       [-0.78003915, -0.25291094,  1.03000265, ..., -0.38595062,\n",
       "        -0.631168  , -0.43351042],\n",
       "       [-0.78003915, -0.25291094,  1.03000265, ..., -0.38595062,\n",
       "        -0.631168  , -0.43351042]])"
      ]
     },
     "execution_count": 142,
     "metadata": {},
     "output_type": "execute_result"
    }
   ],
   "source": [
    "from sklearn.preprocessing import StandardScaler\n",
    "s=StandardScaler()\n",
    "x=s.fit_transform(x)\n",
    "x"
   ]
  },
  {
   "cell_type": "code",
   "execution_count": 144,
   "id": "9b45200f-08e8-4052-a7b6-62e912aab9fb",
   "metadata": {},
   "outputs": [
    {
     "name": "stdout",
     "output_type": "stream",
     "text": [
      "6664    445000\n",
      "4009    300000\n",
      "1163    265000\n",
      "2668    650000\n",
      "1895    110000\n",
      "         ...  \n",
      "5031    500000\n",
      "6364    295000\n",
      "3616    550000\n",
      "2742    560000\n",
      "5122    150000\n",
      "Name: selling_price, Length: 1577, dtype: int64\n"
     ]
    }
   ],
   "source": [
    "from sklearn.model_selection import train_test_split\n",
    "x_train,x_test,y_train,y_test=train_test_split(x,y,test_size=0.2,random_state=0)\n",
    "print(y_test)"
   ]
  },
  {
   "cell_type": "code",
   "execution_count": 146,
   "id": "f9322b9f-23b5-4bae-85df-8fee1cafad69",
   "metadata": {},
   "outputs": [],
   "source": [
    "from sklearn.ensemble import RandomForestClassifier\n",
    "regressor= RandomForestClassifier(n_estimators=100)\n",
    "regressor.fit(x_train,y_train)\n",
    "y_pred=regressor.predict(x_test)"
   ]
  },
  {
   "cell_type": "code",
   "execution_count": 147,
   "id": "24990dfa-08ec-4fc5-9dba-4e8f357ca6b6",
   "metadata": {},
   "outputs": [
    {
     "name": "stdout",
     "output_type": "stream",
     "text": [
      "0.9721334514080545\n"
     ]
    }
   ],
   "source": [
    "from sklearn.metrics import r2_score\n",
    "print(r2_score(y_test,y_pred))"
   ]
  },
  {
   "cell_type": "code",
   "execution_count": null,
   "id": "0bf5aeaa-281d-4cfa-8be1-7ed90ec1872c",
   "metadata": {},
   "outputs": [],
   "source": []
  }
 ],
 "metadata": {
  "kernelspec": {
   "display_name": "Python [conda env:base] *",
   "language": "python",
   "name": "conda-base-py"
  },
  "language_info": {
   "codemirror_mode": {
    "name": "ipython",
    "version": 3
   },
   "file_extension": ".py",
   "mimetype": "text/x-python",
   "name": "python",
   "nbconvert_exporter": "python",
   "pygments_lexer": "ipython3",
   "version": "3.12.7"
  }
 },
 "nbformat": 4,
 "nbformat_minor": 5
}
